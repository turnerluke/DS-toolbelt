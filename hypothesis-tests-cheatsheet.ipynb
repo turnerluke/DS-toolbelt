{
 "cells": [
  {
   "cell_type": "markdown",
   "id": "581e7a47",
   "metadata": {
    "papermill": {
     "duration": 0.032488,
     "end_time": "2022-04-04T11:31:00.149999",
     "exception": false,
     "start_time": "2022-04-04T11:31:00.117511",
     "status": "completed"
    },
    "tags": []
   },
   "source": [
    "# Table of Contents\n",
    "\n",
    "1. [Normality Tests](#group1)\n",
    "    1. [Shapiro-Wilk Test](#test1)\n",
    "    2. [D’Agostino’s $K^2$ Test](#test2)\n",
    "    3. [Anderson-Darling Test](#test3)\n",
    "2. [Correlation Tests](#group2)\n",
    "    1. [Pearson’s Correlation Coefficient](#test4)\n",
    "    2. [Spearman’s Rank Correlation](#test5)\n",
    "    3. [Kendall’s Rank Correlation](#test6)\n",
    "    4. [Chi-Squared Test](#test7)\n",
    "3. [Stationary Tests](#group3)\n",
    "    1. [Augmented Dickey-Fuller](#test8)\n",
    "    2. [Kwiatkowski-Phillips-Schmidt-Shin](#test9)\n",
    "4. [Parametric Statistical Hypothesis Tests](#group4)\n",
    "    1. [Student’s t-test](#test10)\n",
    "    2. [Paired Student’s t-test](#test11)\n",
    "    3. [Analysis of Variance Test (ANOVA)](#test12)\n",
    "    4. [Repeated Measures ANOVA Test](#test13)\n",
    "5. [Nonparametric Statistical Hypothesis Tests](#group5)\n",
    "    1. [Mann-Whitney U Test](#test14)\n",
    "    2. [Wilcoxon Signed-Rank Test](#test15)\n",
    "    3. [Kruskal-Wallis H Test](#test16)\n",
    "    4. [Friedman Test](#test17)"
   ]
  },
  {
   "cell_type": "markdown",
   "id": "af75372b",
   "metadata": {
    "papermill": {
     "duration": 0.029884,
     "end_time": "2022-04-04T11:31:00.212543",
     "exception": false,
     "start_time": "2022-04-04T11:31:00.182659",
     "status": "completed"
    },
    "tags": []
   },
   "source": [
    "# 1. Normality Tests <a name=\"group1\"></a>"
   ]
  },
  {
   "cell_type": "markdown",
   "id": "88273376",
   "metadata": {
    "papermill": {
     "duration": 0.029968,
     "end_time": "2022-04-04T11:31:00.273985",
     "exception": false,
     "start_time": "2022-04-04T11:31:00.244017",
     "status": "completed"
    },
    "tags": []
   },
   "source": [
    "# Shapiro-Wilk Test <a name=\"test1\"></a>\n",
    "Tests whether a data sample has a Gaussian distribution.\n",
    "\n",
    "Assumptions\n",
    "\n",
    "- Observations in each sample are independent and identically distributed (iid).\n",
    "\n",
    "Interpretation:  \n",
    "- $H_0$: the sample has a Gaussian distribution.  \n",
    "- $H_a$: the sample does not have a Gaussian distribution"
   ]
  },
  {
   "cell_type": "code",
   "execution_count": 1,
   "id": "e04edadd",
   "metadata": {
    "execution": {
     "iopub.execute_input": "2022-04-04T11:31:00.346657Z",
     "iopub.status.busy": "2022-04-04T11:31:00.345694Z",
     "iopub.status.idle": "2022-04-04T11:31:01.266491Z",
     "shell.execute_reply": "2022-04-04T11:31:01.267029Z",
     "shell.execute_reply.started": "2022-04-04T00:40:16.172538Z"
    },
    "papermill": {
     "duration": 0.96331,
     "end_time": "2022-04-04T11:31:01.267368",
     "exception": false,
     "start_time": "2022-04-04T11:31:00.304058",
     "status": "completed"
    },
    "tags": []
   },
   "outputs": [
    {
     "name": "stdout",
     "output_type": "stream",
     "text": [
      "stat = 0.895, p = 0.193\n",
      "Probably Gaussian\n"
     ]
    }
   ],
   "source": [
    "from scipy.stats import shapiro\n",
    "data = [0.873, 2.817, 0.121, -0.945, -0.055, -1.436, 0.360, -1.478, -1.637, -1.869]\n",
    "stat, p = shapiro(data)\n",
    "print(f'stat = {stat:.3}, p = {p:.3}')\n",
    "if p > 0.05:\n",
    "    print('Probably Gaussian')\n",
    "else:\n",
    "    print('Probably not Gaussian')"
   ]
  },
  {
   "cell_type": "markdown",
   "id": "f47c7dfc",
   "metadata": {
    "papermill": {
     "duration": 0.030543,
     "end_time": "2022-04-04T11:31:01.329290",
     "exception": false,
     "start_time": "2022-04-04T11:31:01.298747",
     "status": "completed"
    },
    "tags": []
   },
   "source": [
    "# D’Agostino’s $K^2$ Test <a name=\"test2\"></a>\n",
    "Tests whether a data sample has a Gaussian distribution.\n",
    "\n",
    "Assumptions\n",
    "\n",
    "- Observations in each sample are independent and identically distributed (iid).\n",
    "\n",
    "Interpretation  \n",
    "\n",
    "- $H_0$: the sample has a Gaussian distribution.  \n",
    "- $H_a$: the sample does not have a Gaussian distribution.  "
   ]
  },
  {
   "cell_type": "code",
   "execution_count": 2,
   "id": "fbd65b9e",
   "metadata": {
    "execution": {
     "iopub.execute_input": "2022-04-04T11:31:01.398486Z",
     "iopub.status.busy": "2022-04-04T11:31:01.397786Z",
     "iopub.status.idle": "2022-04-04T11:31:01.407941Z",
     "shell.execute_reply": "2022-04-04T11:31:01.408468Z",
     "shell.execute_reply.started": "2022-04-04T00:41:04.773357Z"
    },
    "papermill": {
     "duration": 0.048703,
     "end_time": "2022-04-04T11:31:01.408642",
     "exception": false,
     "start_time": "2022-04-04T11:31:01.359939",
     "status": "completed"
    },
    "tags": []
   },
   "outputs": [
    {
     "name": "stdout",
     "output_type": "stream",
     "text": [
      "stat = 3.39, p = 0.183\n",
      "Probably Gaussian\n"
     ]
    },
    {
     "name": "stderr",
     "output_type": "stream",
     "text": [
      "/opt/conda/lib/python3.7/site-packages/scipy/stats/stats.py:1542: UserWarning: kurtosistest only valid for n>=20 ... continuing anyway, n=10\n",
      "  \"anyway, n=%i\" % int(n))\n"
     ]
    }
   ],
   "source": [
    "from scipy.stats import normaltest\n",
    "data = [0.873, 2.817, 0.121, -0.945, -0.055, -1.436, 0.360, -1.478, -1.637, -1.869]\n",
    "stat, p = normaltest(data)\n",
    "print(f'stat = {stat:.3}, p = {p:.3}')\n",
    "if p > 0.05:\n",
    "\tprint('Probably Gaussian')\n",
    "else:\n",
    "\tprint('Probably not Gaussian')"
   ]
  },
  {
   "cell_type": "markdown",
   "id": "37be4222",
   "metadata": {
    "papermill": {
     "duration": 0.032965,
     "end_time": "2022-04-04T11:31:01.473035",
     "exception": false,
     "start_time": "2022-04-04T11:31:01.440070",
     "status": "completed"
    },
    "tags": []
   },
   "source": [
    "# Anderson-Darling Test <a name=\"test3\"></a>\n",
    "Tests whether a data sample has a Gaussian distribution.\n",
    "\n",
    "Assumptions\n",
    "\n",
    "- Observations in each sample are independent and identically distributed (iid).\n",
    "\n",
    "Interpretation\n",
    "\n",
    "- $H_0$: the sample has a Gaussian distribution.\n",
    "- $H_a$: the sample does not have a Gaussian distribution."
   ]
  },
  {
   "cell_type": "code",
   "execution_count": 3,
   "id": "1786af06",
   "metadata": {
    "execution": {
     "iopub.execute_input": "2022-04-04T11:31:01.546398Z",
     "iopub.status.busy": "2022-04-04T11:31:01.545629Z",
     "iopub.status.idle": "2022-04-04T11:31:01.549839Z",
     "shell.execute_reply": "2022-04-04T11:31:01.550308Z",
     "shell.execute_reply.started": "2022-04-04T00:45:35.334871Z"
    },
    "papermill": {
     "duration": 0.04515,
     "end_time": "2022-04-04T11:31:01.550483",
     "exception": false,
     "start_time": "2022-04-04T11:31:01.505333",
     "status": "completed"
    },
    "tags": []
   },
   "outputs": [
    {
     "name": "stdout",
     "output_type": "stream",
     "text": [
      "stat = 0.424\n",
      "Probably Gaussian at the 15.0% level\n",
      "Probably Gaussian at the 10.0% level\n",
      "Probably Gaussian at the 5.0% level\n",
      "Probably Gaussian at the 2.5% level\n",
      "Probably Gaussian at the 1.0% level\n"
     ]
    }
   ],
   "source": [
    "from scipy.stats import anderson\n",
    "data = [0.873, 2.817, 0.121, -0.945, -0.055, -1.436, 0.360, -1.478, -1.637, -1.869]\n",
    "result = anderson(data)\n",
    "print(f'stat = {result.statistic:.3}')\n",
    "for i in range(len(result.critical_values)):\n",
    "    sl, cv = result.significance_level[i], result.critical_values[i]\n",
    "    if result.statistic < cv:\n",
    "        print(f'Probably Gaussian at the {sl:.1f}% level')\n",
    "    else:\n",
    "        print(f'Probably not Gaussian at the {sl:.1f}% level')"
   ]
  },
  {
   "cell_type": "markdown",
   "id": "d8af4f95",
   "metadata": {
    "papermill": {
     "duration": 0.033084,
     "end_time": "2022-04-04T11:31:01.615577",
     "exception": false,
     "start_time": "2022-04-04T11:31:01.582493",
     "status": "completed"
    },
    "tags": []
   },
   "source": [
    "# 2. Correlation Tests <a name=\"group2\"></a>"
   ]
  },
  {
   "cell_type": "markdown",
   "id": "6ee78937",
   "metadata": {
    "papermill": {
     "duration": 0.031828,
     "end_time": "2022-04-04T11:31:01.679887",
     "exception": false,
     "start_time": "2022-04-04T11:31:01.648059",
     "status": "completed"
    },
    "tags": []
   },
   "source": [
    "# Pearson’s Correlation Coefficient <a name=\"test4\"></a>\n",
    "Tests whether two samples have a linear relationship.\n",
    "\n",
    "Assumptions  \n",
    "\n",
    "- Observations in each sample are independent and identically distributed (iid).\n",
    "- Observations in each sample are normally distributed.\n",
    "- Observations in each sample have the same variance.\n",
    "\n",
    "Interpretation\n",
    "\n",
    "- $H_0$: the two samples are independent.\n",
    "- $H_a$: there is a dependency between the samples."
   ]
  },
  {
   "cell_type": "code",
   "execution_count": 4,
   "id": "fd8e04de",
   "metadata": {
    "execution": {
     "iopub.execute_input": "2022-04-04T11:31:01.752022Z",
     "iopub.status.busy": "2022-04-04T11:31:01.751327Z",
     "iopub.status.idle": "2022-04-04T11:31:01.754601Z",
     "shell.execute_reply": "2022-04-04T11:31:01.753948Z",
     "shell.execute_reply.started": "2022-04-04T01:12:46.530453Z"
    },
    "papermill": {
     "duration": 0.042715,
     "end_time": "2022-04-04T11:31:01.754741",
     "exception": false,
     "start_time": "2022-04-04T11:31:01.712026",
     "status": "completed"
    },
    "tags": []
   },
   "outputs": [
    {
     "name": "stdout",
     "output_type": "stream",
     "text": [
      "stat = 0.688, p = 0.0279\n",
      "Probably dependent\n"
     ]
    }
   ],
   "source": [
    "from scipy.stats import pearsonr\n",
    "data1 = [0.873, 2.817, 0.121, -0.945, -0.055, -1.436, 0.360, -1.478, -1.637, -1.869]\n",
    "data2 = [0.353, 3.517, 0.125, -7.545, -0.555, -1.536, 3.350, -1.578, -3.537, -1.579]\n",
    "stat, p = pearsonr(data1, data2)\n",
    "print(f'stat = {stat:.3}, p = {p:.3}')\n",
    "if p > 0.05:\n",
    "\tprint('Probably independent')\n",
    "else:\n",
    "\tprint('Probably dependent')"
   ]
  },
  {
   "cell_type": "markdown",
   "id": "10f91ca4",
   "metadata": {
    "papermill": {
     "duration": 0.033887,
     "end_time": "2022-04-04T11:31:01.821349",
     "exception": false,
     "start_time": "2022-04-04T11:31:01.787462",
     "status": "completed"
    },
    "tags": []
   },
   "source": [
    "# Spearman’s Rank Correlation <a name=\"test5\"></a>\n",
    "Tests whether two samples have a monotonic relationship.\n",
    "\n",
    "Assumptions\n",
    "\n",
    "- Observations in each sample are independent and identically distributed (iid).\n",
    "- Observations in each sample can be ranked.\n",
    "\n",
    "Interpretation\n",
    "\n",
    "- $H_0$: the two samples are independent.\n",
    "- $H_a$: there is a dependency between the samples."
   ]
  },
  {
   "cell_type": "code",
   "execution_count": 5,
   "id": "962f7626",
   "metadata": {
    "execution": {
     "iopub.execute_input": "2022-04-04T11:31:01.894103Z",
     "iopub.status.busy": "2022-04-04T11:31:01.893243Z",
     "iopub.status.idle": "2022-04-04T11:31:01.900259Z",
     "shell.execute_reply": "2022-04-04T11:31:01.899665Z",
     "shell.execute_reply.started": "2022-04-04T11:15:18.948929Z"
    },
    "papermill": {
     "duration": 0.046862,
     "end_time": "2022-04-04T11:31:01.900438",
     "exception": false,
     "start_time": "2022-04-04T11:31:01.853576",
     "status": "completed"
    },
    "tags": []
   },
   "outputs": [
    {
     "name": "stdout",
     "output_type": "stream",
     "text": [
      "stat = 0.855, p = 0.00164\n",
      "Probably dependent\n"
     ]
    }
   ],
   "source": [
    "from scipy.stats import spearmanr\n",
    "data1 = [0.873, 2.817, 0.121, -0.945, -0.055, -1.436, 0.360, -1.478, -1.637, -1.869]\n",
    "data2 = [0.353, 3.517, 0.125, -7.545, -0.555, -1.536, 3.350, -1.578, -3.537, -1.579]\n",
    "stat, p = spearmanr(data1, data2)\n",
    "print(f'stat = {stat:.3}, p = {p:.3}')\n",
    "if p > 0.05:\n",
    "\tprint('Probably independent')\n",
    "else:\n",
    "\tprint('Probably dependent')"
   ]
  },
  {
   "cell_type": "markdown",
   "id": "d807ceb2",
   "metadata": {
    "papermill": {
     "duration": 0.032458,
     "end_time": "2022-04-04T11:31:01.965609",
     "exception": false,
     "start_time": "2022-04-04T11:31:01.933151",
     "status": "completed"
    },
    "tags": []
   },
   "source": [
    "# Kendall’s Rank Correlation <a name=\"test6\"></a>\n",
    "Tests whether two samples have a monotonic relationship.\n",
    "\n",
    "Assumptions\n",
    "\n",
    "- Observations in each sample are independent and identically distributed (iid).\n",
    "-  in each sample can be ranked.\n",
    "\n",
    "Interpretation\n",
    "\n",
    "- $H_0$: the two samples are independent.\n",
    "- $H_a$: there is a dependency between the samples."
   ]
  },
  {
   "cell_type": "code",
   "execution_count": 6,
   "id": "565b616d",
   "metadata": {
    "execution": {
     "iopub.execute_input": "2022-04-04T11:31:02.042308Z",
     "iopub.status.busy": "2022-04-04T11:31:02.041594Z",
     "iopub.status.idle": "2022-04-04T11:31:02.044770Z",
     "shell.execute_reply": "2022-04-04T11:31:02.044146Z",
     "shell.execute_reply.started": "2022-04-04T11:16:12.496050Z"
    },
    "papermill": {
     "duration": 0.046696,
     "end_time": "2022-04-04T11:31:02.044910",
     "exception": false,
     "start_time": "2022-04-04T11:31:01.998214",
     "status": "completed"
    },
    "tags": []
   },
   "outputs": [
    {
     "name": "stdout",
     "output_type": "stream",
     "text": [
      "stat = 0.733, p = 0.00221\n",
      "Probably dependent\n"
     ]
    }
   ],
   "source": [
    "from scipy.stats import kendalltau\n",
    "data1 = [0.873, 2.817, 0.121, -0.945, -0.055, -1.436, 0.360, -1.478, -1.637, -1.869]\n",
    "data2 = [0.353, 3.517, 0.125, -7.545, -0.555, -1.536, 3.350, -1.578, -3.537, -1.579]\n",
    "stat, p = kendalltau(data1, data2)\n",
    "print(f'stat = {stat:.3}, p = {p:.3}')\n",
    "if p > 0.05:\n",
    "\tprint('Probably independent')\n",
    "else:\n",
    "\tprint('Probably dependent')"
   ]
  },
  {
   "cell_type": "markdown",
   "id": "71b229bd",
   "metadata": {
    "papermill": {
     "duration": 0.032802,
     "end_time": "2022-04-04T11:31:02.110722",
     "exception": false,
     "start_time": "2022-04-04T11:31:02.077920",
     "status": "completed"
    },
    "tags": []
   },
   "source": [
    "# Chi-Squared Test <a name=\"test7\"></a>\n",
    "Tests whether two categorical variables are related or independent.\n",
    "\n",
    "Assumptions\n",
    "\n",
    "- Observations used in the calculation of the contingency table are independent.\n",
    "- 25 or more examples in each cell of the contingency table.\n",
    "\n",
    "Interpretation\n",
    "\n",
    "- $H_0$: the two samples are independent.\n",
    "- $H_a$: there is a dependency between the samples."
   ]
  },
  {
   "cell_type": "code",
   "execution_count": 7,
   "id": "53239446",
   "metadata": {
    "execution": {
     "iopub.execute_input": "2022-04-04T11:31:02.183979Z",
     "iopub.status.busy": "2022-04-04T11:31:02.183271Z",
     "iopub.status.idle": "2022-04-04T11:31:02.188125Z",
     "shell.execute_reply": "2022-04-04T11:31:02.187571Z",
     "shell.execute_reply.started": "2022-04-04T01:17:56.841515Z"
    },
    "papermill": {
     "duration": 0.044701,
     "end_time": "2022-04-04T11:31:02.188283",
     "exception": false,
     "start_time": "2022-04-04T11:31:02.143582",
     "status": "completed"
    },
    "tags": []
   },
   "outputs": [
    {
     "name": "stdout",
     "output_type": "stream",
     "text": [
      "stat = 0.272, p = 0.873\n",
      "Probably independent\n"
     ]
    }
   ],
   "source": [
    "from scipy.stats import chi2_contingency\n",
    "table = [[10, 20, 30],[6,  9,  17]]\n",
    "stat, p, dof, expected = chi2_contingency(table)\n",
    "print(f'stat = {stat:.3}, p = {p:.3}')\n",
    "if p > 0.05:\n",
    "\tprint('Probably independent')\n",
    "else:\n",
    "\tprint('Probably dependent')"
   ]
  },
  {
   "cell_type": "markdown",
   "id": "f6805c5a",
   "metadata": {
    "papermill": {
     "duration": 0.032999,
     "end_time": "2022-04-04T11:31:02.254611",
     "exception": false,
     "start_time": "2022-04-04T11:31:02.221612",
     "status": "completed"
    },
    "tags": []
   },
   "source": [
    "# 3. Stationary Tests  <a name=\"group3\"></a>"
   ]
  },
  {
   "cell_type": "markdown",
   "id": "4c141dae",
   "metadata": {
    "papermill": {
     "duration": 0.032855,
     "end_time": "2022-04-04T11:31:02.321477",
     "exception": false,
     "start_time": "2022-04-04T11:31:02.288622",
     "status": "completed"
    },
    "tags": []
   },
   "source": [
    "# Augmented Dickey-Fuller Unit Root Test <a name=\"test8\"></a>\n",
    "Tests whether a time series has a unit root, e.g. has a trend or more generally is autoregressive.\n",
    "\n",
    "Assumptions\n",
    "\n",
    "- Observations in are temporally ordered.\n",
    "\n",
    "Interpretation\n",
    "\n",
    "- $H_0$: a unit root is present (series is non-stationary).\n",
    "- $H_a$: a unit root is not present (series is stationary)."
   ]
  },
  {
   "cell_type": "code",
   "execution_count": 8,
   "id": "e363d25d",
   "metadata": {
    "execution": {
     "iopub.execute_input": "2022-04-04T11:31:02.394343Z",
     "iopub.status.busy": "2022-04-04T11:31:02.393606Z",
     "iopub.status.idle": "2022-04-04T11:31:02.588503Z",
     "shell.execute_reply": "2022-04-04T11:31:02.589127Z",
     "shell.execute_reply.started": "2022-04-04T01:19:19.931184Z"
    },
    "papermill": {
     "duration": 0.234726,
     "end_time": "2022-04-04T11:31:02.589304",
     "exception": false,
     "start_time": "2022-04-04T11:31:02.354578",
     "status": "completed"
    },
    "tags": []
   },
   "outputs": [
    {
     "name": "stdout",
     "output_type": "stream",
     "text": [
      "stat = 0.517, p = 0.985\n",
      "Probably not Stationary\n"
     ]
    }
   ],
   "source": [
    "from statsmodels.tsa.stattools import adfuller\n",
    "data = [0, 1, 2, 3, 4, 5, 6, 7, 8, 9]\n",
    "stat, p, lags, obs, crit, t = adfuller(data)\n",
    "print(f'stat = {stat:.3}, p = {p:.3}')\n",
    "if p > 0.05:\n",
    "\tprint('Probably not Stationary')\n",
    "else:\n",
    "\tprint('Probably Stationary')"
   ]
  },
  {
   "cell_type": "markdown",
   "id": "a34c15b5",
   "metadata": {
    "papermill": {
     "duration": 0.034085,
     "end_time": "2022-04-04T11:31:02.658008",
     "exception": false,
     "start_time": "2022-04-04T11:31:02.623923",
     "status": "completed"
    },
    "tags": []
   },
   "source": [
    "# Kwiatkowski-Phillips-Schmidt-Shin <a name=\"test9\"></a>\n",
    "Tests whether a time series is trend stationary or not.\n",
    "\n",
    "Assumptions\n",
    "\n",
    "- Observations in are temporally ordered.\n",
    "\n",
    "Interpretation\n",
    "\n",
    "- $H_0$: the time series is trend-stationary.\n",
    "- $H_a$: the time series is not trend-stationary."
   ]
  },
  {
   "cell_type": "code",
   "execution_count": 9,
   "id": "b0d45b1c",
   "metadata": {
    "execution": {
     "iopub.execute_input": "2022-04-04T11:31:02.734603Z",
     "iopub.status.busy": "2022-04-04T11:31:02.733539Z",
     "iopub.status.idle": "2022-04-04T11:31:02.737004Z",
     "shell.execute_reply": "2022-04-04T11:31:02.737510Z",
     "shell.execute_reply.started": "2022-04-04T01:25:08.474959Z"
    },
    "papermill": {
     "duration": 0.044889,
     "end_time": "2022-04-04T11:31:02.737680",
     "exception": false,
     "start_time": "2022-04-04T11:31:02.692791",
     "status": "completed"
    },
    "tags": []
   },
   "outputs": [
    {
     "name": "stdout",
     "output_type": "stream",
     "text": [
      "stat = 0.594, p = 0.0232\n",
      "Probably not Stationary\n"
     ]
    }
   ],
   "source": [
    "from statsmodels.tsa.stattools import kpss\n",
    "data = [0, 1, 2, 3, 4, 5, 6, 7, 8, 9]\n",
    "stat, p, lags, crit = kpss(data)\n",
    "print(f'stat = {stat:.3}, p = {p:.3}')\n",
    "if p > 0.05:\n",
    "\tprint('Probably Stationary')\n",
    "else:\n",
    "\tprint('Probably not Stationary')"
   ]
  },
  {
   "cell_type": "markdown",
   "id": "5495b066",
   "metadata": {
    "papermill": {
     "duration": 0.033976,
     "end_time": "2022-04-04T11:31:02.806199",
     "exception": false,
     "start_time": "2022-04-04T11:31:02.772223",
     "status": "completed"
    },
    "tags": []
   },
   "source": [
    "# 4. Parametric Statistical Hypothesis Tests <a name=\"group4\"></a>"
   ]
  },
  {
   "cell_type": "markdown",
   "id": "a338fe87",
   "metadata": {
    "papermill": {
     "duration": 0.033527,
     "end_time": "2022-04-04T11:31:02.873856",
     "exception": false,
     "start_time": "2022-04-04T11:31:02.840329",
     "status": "completed"
    },
    "tags": []
   },
   "source": [
    "# Student’s t-test <a name=\"test10\"></a>\n",
    "Tests whether the means of two independent samples are significantly different.\n",
    "\n",
    "Assumptions\n",
    "\n",
    "- Observations in each sample are independent and identically distributed (iid).\n",
    "- Observations in each sample are normally distributed.\n",
    "- Observations in each sample have the same variance.\n",
    "\n",
    "Interpretation\n",
    "\n",
    "- $H_0$: the means of the samples are equal.\n",
    "- $H_a$: the means of the samples are unequal."
   ]
  },
  {
   "cell_type": "code",
   "execution_count": 10,
   "id": "ca3b136d",
   "metadata": {
    "execution": {
     "iopub.execute_input": "2022-04-04T11:31:02.950903Z",
     "iopub.status.busy": "2022-04-04T11:31:02.949746Z",
     "iopub.status.idle": "2022-04-04T11:31:02.954869Z",
     "shell.execute_reply": "2022-04-04T11:31:02.954104Z",
     "shell.execute_reply.started": "2022-04-04T01:26:43.362934Z"
    },
    "papermill": {
     "duration": 0.046852,
     "end_time": "2022-04-04T11:31:02.955060",
     "exception": false,
     "start_time": "2022-04-04T11:31:02.908208",
     "status": "completed"
    },
    "tags": []
   },
   "outputs": [
    {
     "name": "stdout",
     "output_type": "stream",
     "text": [
      "stat = -0.326, p = 0.748\n",
      "Probably the same distribution\n"
     ]
    }
   ],
   "source": [
    "from scipy.stats import ttest_ind\n",
    "data1 = [0.873, 2.817, 0.121, -0.945, -0.055, -1.436, 0.360, -1.478, -1.637, -1.869]\n",
    "data2 = [1.142, -0.432, -0.938, -0.729, -0.846, -0.157, 0.500, 1.183, -1.075, -0.169]\n",
    "stat, p = ttest_ind(data1, data2)\n",
    "print(f'stat = {stat:.3}, p = {p:.3}')\n",
    "if p > 0.05:\n",
    "\tprint('Probably the same distribution')\n",
    "else:\n",
    "\tprint('Probably different distributions')"
   ]
  },
  {
   "cell_type": "markdown",
   "id": "cea904e9",
   "metadata": {
    "papermill": {
     "duration": 0.034406,
     "end_time": "2022-04-04T11:31:03.024938",
     "exception": false,
     "start_time": "2022-04-04T11:31:02.990532",
     "status": "completed"
    },
    "tags": []
   },
   "source": [
    "# Paired Student’s t-test <a name=\"test11\"></a>\n",
    "Tests whether the means of two paired samples are significantly different.\n",
    "\n",
    "Assumptions\n",
    "\n",
    "- Observations in each sample are independent and identically distributed (iid).\n",
    "- Observations in each sample are normally distributed.\n",
    "- Observations in each sample have the same variance.\n",
    "- Observations across each sample are paired.\n",
    "\n",
    "Interpretation\n",
    "\n",
    "- $H_0$: the means of the samples are equal.\n",
    "- $H_a$: the means of the samples are unequal."
   ]
  },
  {
   "cell_type": "code",
   "execution_count": 11,
   "id": "b420f222",
   "metadata": {
    "execution": {
     "iopub.execute_input": "2022-04-04T11:31:03.103818Z",
     "iopub.status.busy": "2022-04-04T11:31:03.102767Z",
     "iopub.status.idle": "2022-04-04T11:31:03.106124Z",
     "shell.execute_reply": "2022-04-04T11:31:03.106673Z",
     "shell.execute_reply.started": "2022-04-04T10:51:04.434216Z"
    },
    "papermill": {
     "duration": 0.047322,
     "end_time": "2022-04-04T11:31:03.106844",
     "exception": false,
     "start_time": "2022-04-04T11:31:03.059522",
     "status": "completed"
    },
    "tags": []
   },
   "outputs": [
    {
     "name": "stdout",
     "output_type": "stream",
     "text": [
      "stat = -0.334, p = 0.746\n",
      "Probably the same distribution\n"
     ]
    }
   ],
   "source": [
    "from scipy.stats import ttest_rel\n",
    "data1 = [0.873, 2.817, 0.121, -0.945, -0.055, -1.436, 0.360, -1.478, -1.637, -1.869]\n",
    "data2 = [1.142, -0.432, -0.938, -0.729, -0.846, -0.157, 0.500, 1.183, -1.075, -0.169]\n",
    "stat, p = ttest_rel(data1, data2)\n",
    "print(f'stat = {stat:.3}, p = {p:.3}')\n",
    "if p > 0.05:\n",
    "\tprint('Probably the same distribution')\n",
    "else:\n",
    "\tprint('Probably different distributions')"
   ]
  },
  {
   "cell_type": "markdown",
   "id": "867a4fa1",
   "metadata": {
    "papermill": {
     "duration": 0.034518,
     "end_time": "2022-04-04T11:31:03.176029",
     "exception": false,
     "start_time": "2022-04-04T11:31:03.141511",
     "status": "completed"
    },
    "tags": []
   },
   "source": [
    "# Analysis of Variance Test (ANOVA) <a name=\"test12\"></a>\n",
    "Tests whether the means of two or more independent samples are significantly different.\n",
    "\n",
    "Assumptions\n",
    "\n",
    "- Observations in each sample are independent and identically distributed (iid).\n",
    "- Observations in each sample are normally distributed.\n",
    "- Observations in each sample have the same variance.\n",
    "\n",
    "Interpretation\n",
    "\n",
    "- $H_0$: the means of the samples are equal.\n",
    "- $H_a$: one or more of the means of the samples are unequal."
   ]
  },
  {
   "cell_type": "code",
   "execution_count": 12,
   "id": "d014ace4",
   "metadata": {
    "execution": {
     "iopub.execute_input": "2022-04-04T11:31:03.254047Z",
     "iopub.status.busy": "2022-04-04T11:31:03.253002Z",
     "iopub.status.idle": "2022-04-04T11:31:03.258865Z",
     "shell.execute_reply": "2022-04-04T11:31:03.258205Z",
     "shell.execute_reply.started": "2022-04-04T11:04:26.387711Z"
    },
    "papermill": {
     "duration": 0.048242,
     "end_time": "2022-04-04T11:31:03.259025",
     "exception": false,
     "start_time": "2022-04-04T11:31:03.210783",
     "status": "completed"
    },
    "tags": []
   },
   "outputs": [
    {
     "name": "stdout",
     "output_type": "stream",
     "text": [
      "stat = 0.0964, p = 0.908\n",
      "Probably the same distribution\n"
     ]
    }
   ],
   "source": [
    "from scipy.stats import f_oneway\n",
    "data1 = [0.873, 2.817, 0.121, -0.945, -0.055, -1.436, 0.360, -1.478, -1.637, -1.869]\n",
    "data2 = [1.142, -0.432, -0.938, -0.729, -0.846, -0.157, 0.500, 1.183, -1.075, -0.169]\n",
    "data3 = [-0.208, 0.696, 0.928, -1.148, -0.213, 0.229, 0.137, 0.269, -0.870, -1.204]\n",
    "stat, p = f_oneway(data1, data2, data3)\n",
    "print(f'stat = {stat:.3}, p = {p:.3}')\n",
    "if p > 0.05:\n",
    "\tprint('Probably the same distribution')\n",
    "else:\n",
    "\tprint('Probably different distributions')"
   ]
  },
  {
   "cell_type": "markdown",
   "id": "88c9cb4a",
   "metadata": {
    "papermill": {
     "duration": 0.035291,
     "end_time": "2022-04-04T11:31:03.329586",
     "exception": false,
     "start_time": "2022-04-04T11:31:03.294295",
     "status": "completed"
    },
    "tags": []
   },
   "source": [
    "# Repeated Measures ANOVA Test <a name=\"test13\"></a>\n",
    "Tests whether the means of two or more paired samples are significantly different.\n",
    "\n",
    "Assumptions\n",
    "\n",
    "- Observations in each sample are independent and identically distributed (iid).\n",
    "- Observations in each sample are normally distributed.\n",
    "- Observations in each sample have the same variance.\n",
    "- Observations across each sample are paired.\n",
    "\n",
    "Interpretation\n",
    "\n",
    "- $H_0$: the means of the samples are equal.\n",
    "- $H_a$: one or more of the means of the samples are unequal.\n",
    "\n",
    "\n",
    "Currently not supported in Python."
   ]
  },
  {
   "cell_type": "markdown",
   "id": "329983bb",
   "metadata": {
    "papermill": {
     "duration": 0.03457,
     "end_time": "2022-04-04T11:31:03.399150",
     "exception": false,
     "start_time": "2022-04-04T11:31:03.364580",
     "status": "completed"
    },
    "tags": []
   },
   "source": [
    "# 5. Nonparametric Statistical Hypothesis Tests <a name=\"group5\"></a>"
   ]
  },
  {
   "cell_type": "markdown",
   "id": "7116c5fb",
   "metadata": {
    "papermill": {
     "duration": 0.035064,
     "end_time": "2022-04-04T11:31:03.469230",
     "exception": false,
     "start_time": "2022-04-04T11:31:03.434166",
     "status": "completed"
    },
    "tags": []
   },
   "source": [
    "# Mann-Whitney U Test <a name=\"test14\"></a>\n",
    "Tests whether the distributions of two independent samples are equal or not.\n",
    "\n",
    "Assumptions\n",
    "\n",
    "- Observations in each sample are independent and identically distributed (iid).\n",
    "- Observations in each sample can be ranked.\n",
    "\n",
    "Interpretation\n",
    "\n",
    "- $H_0$: the distributions of both samples are equal.\n",
    "- $H_a$: the distributions of both samples are not equal."
   ]
  },
  {
   "cell_type": "code",
   "execution_count": 13,
   "id": "350cc0b4",
   "metadata": {
    "execution": {
     "iopub.execute_input": "2022-04-04T11:31:03.543359Z",
     "iopub.status.busy": "2022-04-04T11:31:03.542696Z",
     "iopub.status.idle": "2022-04-04T11:31:03.551285Z",
     "shell.execute_reply": "2022-04-04T11:31:03.551756Z",
     "shell.execute_reply.started": "2022-04-04T11:07:23.266963Z"
    },
    "papermill": {
     "duration": 0.047468,
     "end_time": "2022-04-04T11:31:03.551947",
     "exception": false,
     "start_time": "2022-04-04T11:31:03.504479",
     "status": "completed"
    },
    "tags": []
   },
   "outputs": [
    {
     "name": "stdout",
     "output_type": "stream",
     "text": [
      "stat = 40.0, p = 0.473\n",
      "Probably the same distribution\n"
     ]
    }
   ],
   "source": [
    "from scipy.stats import mannwhitneyu\n",
    "data1 = [0.873, 2.817, 0.121, -0.945, -0.055, -1.436, 0.360, -1.478, -1.637, -1.869]\n",
    "data2 = [1.142, -0.432, -0.938, -0.729, -0.846, -0.157, 0.500, 1.183, -1.075, -0.169]\n",
    "stat, p = mannwhitneyu(data1, data2)\n",
    "print(f'stat = {stat:.3}, p = {p:.3}')\n",
    "if p > 0.05:\n",
    "\tprint('Probably the same distribution')\n",
    "else:\n",
    "\tprint('Probably different distributions')"
   ]
  },
  {
   "cell_type": "markdown",
   "id": "d83aa562",
   "metadata": {
    "papermill": {
     "duration": 0.035625,
     "end_time": "2022-04-04T11:31:03.623663",
     "exception": false,
     "start_time": "2022-04-04T11:31:03.588038",
     "status": "completed"
    },
    "tags": []
   },
   "source": [
    "# Wilcoxon Signed-Rank Test <a name=\"test15\"></a>\n",
    "Tests whether the distributions of two paired samples are equal or not.\n",
    "\n",
    "Assumptions\n",
    "\n",
    "- Observations in each sample are independent and identically distributed (iid).\n",
    "- Observations in each sample can be ranked.\n",
    "- Observations across each sample are paired.\n",
    "\n",
    "Interpretation\n",
    "\n",
    "- $H_0$: the distributions of both samples are equal.\n",
    "- $H_a$: the distributions of both samples are not equal."
   ]
  },
  {
   "cell_type": "code",
   "execution_count": 14,
   "id": "45a74549",
   "metadata": {
    "execution": {
     "iopub.execute_input": "2022-04-04T11:31:03.699014Z",
     "iopub.status.busy": "2022-04-04T11:31:03.697975Z",
     "iopub.status.idle": "2022-04-04T11:31:03.706960Z",
     "shell.execute_reply": "2022-04-04T11:31:03.707548Z",
     "shell.execute_reply.started": "2022-04-04T11:09:19.230282Z"
    },
    "papermill": {
     "duration": 0.0485,
     "end_time": "2022-04-04T11:31:03.707718",
     "exception": false,
     "start_time": "2022-04-04T11:31:03.659218",
     "status": "completed"
    },
    "tags": []
   },
   "outputs": [
    {
     "name": "stdout",
     "output_type": "stream",
     "text": [
      "stat = 21.0, p 0.557\n",
      "Probably the same distribution\n"
     ]
    }
   ],
   "source": [
    "from scipy.stats import wilcoxon\n",
    "data1 = [0.873, 2.817, 0.121, -0.945, -0.055, -1.436, 0.360, -1.478, -1.637, -1.869]\n",
    "data2 = [1.142, -0.432, -0.938, -0.729, -0.846, -0.157, 0.500, 1.183, -1.075, -0.169]\n",
    "stat, p = wilcoxon(data1, data2)\n",
    "print(f'stat = {stat:.3}, p {p:.3}')\n",
    "if p > 0.05:\n",
    "\tprint('Probably the same distribution')\n",
    "else:\n",
    "\tprint('Probably different distributions')"
   ]
  },
  {
   "cell_type": "markdown",
   "id": "9d35b360",
   "metadata": {
    "papermill": {
     "duration": 0.035923,
     "end_time": "2022-04-04T11:31:03.779730",
     "exception": false,
     "start_time": "2022-04-04T11:31:03.743807",
     "status": "completed"
    },
    "tags": []
   },
   "source": [
    "# Kruskal-Wallis H Test <a name=\"test16\"></a>\n",
    "Tests whether the distributions of two or more independent samples are equal or not.\n",
    "\n",
    "Assumptions\n",
    "\n",
    "- Observations in each sample are independent and identically distributed (iid).\n",
    "- Observations in each sample can be ranked.\n",
    "\n",
    "Interpretation\n",
    "\n",
    "- $H_0$: the distributions of all samples are equal.\n",
    "- $H_a$: the distributions of one or more samples are not equal."
   ]
  },
  {
   "cell_type": "code",
   "execution_count": 15,
   "id": "5d238750",
   "metadata": {
    "execution": {
     "iopub.execute_input": "2022-04-04T11:31:03.860825Z",
     "iopub.status.busy": "2022-04-04T11:31:03.858641Z",
     "iopub.status.idle": "2022-04-04T11:31:03.862707Z",
     "shell.execute_reply": "2022-04-04T11:31:03.863322Z",
     "shell.execute_reply.started": "2022-04-04T11:10:42.534534Z"
    },
    "papermill": {
     "duration": 0.04794,
     "end_time": "2022-04-04T11:31:03.863494",
     "exception": false,
     "start_time": "2022-04-04T11:31:03.815554",
     "status": "completed"
    },
    "tags": []
   },
   "outputs": [
    {
     "name": "stdout",
     "output_type": "stream",
     "text": [
      "stat = 0.571, p = 0.45\n",
      "Probably the same distribution\n"
     ]
    }
   ],
   "source": [
    "from scipy.stats import kruskal\n",
    "data1 = [0.873, 2.817, 0.121, -0.945, -0.055, -1.436, 0.360, -1.478, -1.637, -1.869]\n",
    "data2 = [1.142, -0.432, -0.938, -0.729, -0.846, -0.157, 0.500, 1.183, -1.075, -0.169]\n",
    "stat, p = kruskal(data1, data2)\n",
    "print(f'stat = {stat:.3}, p = {p:.3}')\n",
    "if p > 0.05:\n",
    "\tprint('Probably the same distribution')\n",
    "else:\n",
    "\tprint('Probably different distributions')"
   ]
  },
  {
   "cell_type": "markdown",
   "id": "1e055455",
   "metadata": {
    "papermill": {
     "duration": 0.036972,
     "end_time": "2022-04-04T11:31:03.936731",
     "exception": false,
     "start_time": "2022-04-04T11:31:03.899759",
     "status": "completed"
    },
    "tags": []
   },
   "source": [
    "# Friedman Test <a name=\"test17\"></a>\n",
    "Tests whether the distributions of two or more paired samples are equal or not.\n",
    "\n",
    "Assumptions\n",
    "\n",
    "- Observations in each sample are independent and identically distributed (iid).\n",
    "- Observations in each sample can be ranked.\n",
    "- Observations across each sample are paired.\n",
    "\n",
    "Interpretation\n",
    "\n",
    "- $H_0$: the distributions of all samples are equal.\n",
    "- $H_a$: the distributions of one or more samples are not equal."
   ]
  },
  {
   "cell_type": "code",
   "execution_count": 16,
   "id": "2db617bf",
   "metadata": {
    "execution": {
     "iopub.execute_input": "2022-04-04T11:31:04.019018Z",
     "iopub.status.busy": "2022-04-04T11:31:04.017701Z",
     "iopub.status.idle": "2022-04-04T11:31:04.023282Z",
     "shell.execute_reply": "2022-04-04T11:31:04.023745Z",
     "shell.execute_reply.started": "2022-04-04T11:12:02.069269Z"
    },
    "papermill": {
     "duration": 0.050411,
     "end_time": "2022-04-04T11:31:04.023917",
     "exception": false,
     "start_time": "2022-04-04T11:31:03.973506",
     "status": "completed"
    },
    "tags": []
   },
   "outputs": [
    {
     "name": "stdout",
     "output_type": "stream",
     "text": [
      "stat = 0.8, p = 0.67\n",
      "Probably the same distribution\n"
     ]
    }
   ],
   "source": [
    "from scipy.stats import friedmanchisquare\n",
    "data1 = [0.873, 2.817, 0.121, -0.945, -0.055, -1.436, 0.360, -1.478, -1.637, -1.869]\n",
    "data2 = [1.142, -0.432, -0.938, -0.729, -0.846, -0.157, 0.500, 1.183, -1.075, -0.169]\n",
    "data3 = [-0.208, 0.696, 0.928, -1.148, -0.213, 0.229, 0.137, 0.269, -0.870, -1.204]\n",
    "stat, p = friedmanchisquare(data1, data2, data3)\n",
    "print(f'stat = {stat:.3}, p = {p:.3}')\n",
    "if p > 0.05:\n",
    "\tprint('Probably the same distribution')\n",
    "else:\n",
    "\tprint('Probably different distributions')"
   ]
  }
 ],
 "metadata": {
  "kernelspec": {
   "display_name": "Python 3",
   "language": "python",
   "name": "python3"
  },
  "language_info": {
   "codemirror_mode": {
    "name": "ipython",
    "version": 3
   },
   "file_extension": ".py",
   "mimetype": "text/x-python",
   "name": "python",
   "nbconvert_exporter": "python",
   "pygments_lexer": "ipython3",
   "version": "3.7.12"
  },
  "papermill": {
   "default_parameters": {},
   "duration": 14.774715,
   "end_time": "2022-04-04T11:31:04.771896",
   "environment_variables": {},
   "exception": null,
   "input_path": "__notebook__.ipynb",
   "output_path": "__notebook__.ipynb",
   "parameters": {},
   "start_time": "2022-04-04T11:30:49.997181",
   "version": "2.3.3"
  }
 },
 "nbformat": 4,
 "nbformat_minor": 5
}
