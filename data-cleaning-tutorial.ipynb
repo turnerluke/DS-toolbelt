{
 "cells": [
  {
   "cell_type": "code",
   "execution_count": 1,
   "id": "regulation-response",
   "metadata": {
    "execution": {
     "iopub.execute_input": "2022-04-03T16:20:07.696736Z",
     "iopub.status.busy": "2022-04-03T16:20:07.696122Z",
     "iopub.status.idle": "2022-04-03T16:20:08.824007Z",
     "shell.execute_reply": "2022-04-03T16:20:08.824455Z",
     "shell.execute_reply.started": "2022-04-03T16:18:52.520043Z"
    },
    "papermill": {
     "duration": 1.185024,
     "end_time": "2022-04-03T16:20:08.824778",
     "exception": false,
     "start_time": "2022-04-03T16:20:07.639754",
     "status": "completed"
    },
    "tags": []
   },
   "outputs": [],
   "source": [
    "import numpy as np \n",
    "import pandas as pd \n",
    "import os\n",
    "import pandas as pd\n",
    "import numpy as np\n",
    "import seaborn as sns\n",
    "import matplotlib.pyplot as plt\n",
    "from scipy.stats import randint\n",
    "from xgboost import XGBClassifier\n",
    "from sklearn.ensemble import RandomForestClassifier\n",
    "from sklearn.tree import DecisionTreeClassifier\n",
    "from sklearn.preprocessing import LabelEncoder\n",
    "from sklearn.model_selection import train_test_split\n",
    "from sklearn.linear_model import LogisticRegression\n",
    "import numpy as np\n",
    "import pandas as pd \n",
    "from sklearn.model_selection import GridSearchCV\n",
    "from sklearn.tree import DecisionTreeClassifier\n",
    "from sklearn.model_selection import train_test_split\n",
    "from sklearn.feature_selection import SelectKBest\n",
    "from sklearn.pipeline import Pipeline\n",
    "from copy import deepcopy\n",
    "from sklearn.feature_selection import f_classif\n",
    "from sklearn.pipeline import make_pipeline\n",
    "from sklearn.feature_selection import SelectFromModel\n",
    "from sklearn.linear_model import LogisticRegression\n",
    "from sklearn import preprocessing\n",
    "from sklearn.svm import LinearSVC\n",
    "from sklearn import preprocessing\n",
    "from sklearn.svm import LinearSVC\n",
    "import pandas as pd\n",
    "from scipy import stats\n",
    "from statsmodels.stats import weightstats as stests"
   ]
  },
  {
   "cell_type": "markdown",
   "id": "convertible-grant",
   "metadata": {
    "papermill": {
     "duration": 0.047692,
     "end_time": "2022-04-03T16:20:08.922749",
     "exception": false,
     "start_time": "2022-04-03T16:20:08.875057",
     "status": "completed"
    },
    "tags": []
   },
   "source": [
    "# Unpack Directory"
   ]
  },
  {
   "cell_type": "code",
   "execution_count": 2,
   "id": "constitutional-christianity",
   "metadata": {
    "execution": {
     "iopub.execute_input": "2022-04-03T16:20:09.014189Z",
     "iopub.status.busy": "2022-04-03T16:20:09.013221Z",
     "iopub.status.idle": "2022-04-03T16:20:09.043340Z",
     "shell.execute_reply": "2022-04-03T16:20:09.043909Z",
     "shell.execute_reply.started": "2022-04-03T16:18:52.529794Z"
    },
    "papermill": {
     "duration": 0.077035,
     "end_time": "2022-04-03T16:20:09.044067",
     "exception": false,
     "start_time": "2022-04-03T16:20:08.967032",
     "status": "completed"
    },
    "tags": []
   },
   "outputs": [],
   "source": [
    "paths = []\n",
    "for dirname, _, filenames in os.walk('/kaggle/input'):\n",
    "    for filename in filenames:\n",
    "        paths.append(os.path.join(dirname, filename))\n",
    "\n",
    "\n",
    "train, test, gender = [pd.read_csv(path) for path in paths]"
   ]
  },
  {
   "cell_type": "markdown",
   "id": "permanent-lloyd",
   "metadata": {
    "papermill": {
     "duration": 0.042948,
     "end_time": "2022-04-03T16:20:09.131302",
     "exception": false,
     "start_time": "2022-04-03T16:20:09.088354",
     "status": "completed"
    },
    "tags": []
   },
   "source": [
    "# Examining the dataset: "
   ]
  },
  {
   "cell_type": "code",
   "execution_count": 3,
   "id": "alert-punch",
   "metadata": {
    "execution": {
     "iopub.execute_input": "2022-04-03T16:20:09.226041Z",
     "iopub.status.busy": "2022-04-03T16:20:09.225470Z",
     "iopub.status.idle": "2022-04-03T16:20:09.247726Z",
     "shell.execute_reply": "2022-04-03T16:20:09.247147Z",
     "shell.execute_reply.started": "2022-04-03T16:18:52.559115Z"
    },
    "papermill": {
     "duration": 0.073455,
     "end_time": "2022-04-03T16:20:09.247853",
     "exception": false,
     "start_time": "2022-04-03T16:20:09.174398",
     "status": "completed"
    },
    "tags": []
   },
   "outputs": [
    {
     "data": {
      "text/html": [
       "<div>\n",
       "<style scoped>\n",
       "    .dataframe tbody tr th:only-of-type {\n",
       "        vertical-align: middle;\n",
       "    }\n",
       "\n",
       "    .dataframe tbody tr th {\n",
       "        vertical-align: top;\n",
       "    }\n",
       "\n",
       "    .dataframe thead th {\n",
       "        text-align: right;\n",
       "    }\n",
       "</style>\n",
       "<table border=\"1\" class=\"dataframe\">\n",
       "  <thead>\n",
       "    <tr style=\"text-align: right;\">\n",
       "      <th></th>\n",
       "      <th>PassengerId</th>\n",
       "      <th>Survived</th>\n",
       "      <th>Pclass</th>\n",
       "      <th>Name</th>\n",
       "      <th>Sex</th>\n",
       "      <th>Age</th>\n",
       "      <th>SibSp</th>\n",
       "      <th>Parch</th>\n",
       "      <th>Ticket</th>\n",
       "      <th>Fare</th>\n",
       "      <th>Cabin</th>\n",
       "      <th>Embarked</th>\n",
       "    </tr>\n",
       "  </thead>\n",
       "  <tbody>\n",
       "    <tr>\n",
       "      <th>0</th>\n",
       "      <td>1</td>\n",
       "      <td>0</td>\n",
       "      <td>3</td>\n",
       "      <td>Braund, Mr. Owen Harris</td>\n",
       "      <td>male</td>\n",
       "      <td>22.0</td>\n",
       "      <td>1</td>\n",
       "      <td>0</td>\n",
       "      <td>A/5 21171</td>\n",
       "      <td>7.2500</td>\n",
       "      <td>NaN</td>\n",
       "      <td>S</td>\n",
       "    </tr>\n",
       "    <tr>\n",
       "      <th>1</th>\n",
       "      <td>2</td>\n",
       "      <td>1</td>\n",
       "      <td>1</td>\n",
       "      <td>Cumings, Mrs. John Bradley (Florence Briggs Th...</td>\n",
       "      <td>female</td>\n",
       "      <td>38.0</td>\n",
       "      <td>1</td>\n",
       "      <td>0</td>\n",
       "      <td>PC 17599</td>\n",
       "      <td>71.2833</td>\n",
       "      <td>C85</td>\n",
       "      <td>C</td>\n",
       "    </tr>\n",
       "    <tr>\n",
       "      <th>2</th>\n",
       "      <td>3</td>\n",
       "      <td>1</td>\n",
       "      <td>3</td>\n",
       "      <td>Heikkinen, Miss. Laina</td>\n",
       "      <td>female</td>\n",
       "      <td>26.0</td>\n",
       "      <td>0</td>\n",
       "      <td>0</td>\n",
       "      <td>STON/O2. 3101282</td>\n",
       "      <td>7.9250</td>\n",
       "      <td>NaN</td>\n",
       "      <td>S</td>\n",
       "    </tr>\n",
       "    <tr>\n",
       "      <th>3</th>\n",
       "      <td>4</td>\n",
       "      <td>1</td>\n",
       "      <td>1</td>\n",
       "      <td>Futrelle, Mrs. Jacques Heath (Lily May Peel)</td>\n",
       "      <td>female</td>\n",
       "      <td>35.0</td>\n",
       "      <td>1</td>\n",
       "      <td>0</td>\n",
       "      <td>113803</td>\n",
       "      <td>53.1000</td>\n",
       "      <td>C123</td>\n",
       "      <td>S</td>\n",
       "    </tr>\n",
       "    <tr>\n",
       "      <th>4</th>\n",
       "      <td>5</td>\n",
       "      <td>0</td>\n",
       "      <td>3</td>\n",
       "      <td>Allen, Mr. William Henry</td>\n",
       "      <td>male</td>\n",
       "      <td>35.0</td>\n",
       "      <td>0</td>\n",
       "      <td>0</td>\n",
       "      <td>373450</td>\n",
       "      <td>8.0500</td>\n",
       "      <td>NaN</td>\n",
       "      <td>S</td>\n",
       "    </tr>\n",
       "  </tbody>\n",
       "</table>\n",
       "</div>"
      ],
      "text/plain": [
       "   PassengerId  Survived  Pclass  \\\n",
       "0            1         0       3   \n",
       "1            2         1       1   \n",
       "2            3         1       3   \n",
       "3            4         1       1   \n",
       "4            5         0       3   \n",
       "\n",
       "                                                Name     Sex   Age  SibSp  \\\n",
       "0                            Braund, Mr. Owen Harris    male  22.0      1   \n",
       "1  Cumings, Mrs. John Bradley (Florence Briggs Th...  female  38.0      1   \n",
       "2                             Heikkinen, Miss. Laina  female  26.0      0   \n",
       "3       Futrelle, Mrs. Jacques Heath (Lily May Peel)  female  35.0      1   \n",
       "4                           Allen, Mr. William Henry    male  35.0      0   \n",
       "\n",
       "   Parch            Ticket     Fare Cabin Embarked  \n",
       "0      0         A/5 21171   7.2500   NaN        S  \n",
       "1      0          PC 17599  71.2833   C85        C  \n",
       "2      0  STON/O2. 3101282   7.9250   NaN        S  \n",
       "3      0            113803  53.1000  C123        S  \n",
       "4      0            373450   8.0500   NaN        S  "
      ]
     },
     "execution_count": 3,
     "metadata": {},
     "output_type": "execute_result"
    }
   ],
   "source": [
    "train.head()"
   ]
  },
  {
   "cell_type": "code",
   "execution_count": 4,
   "id": "veterinary-judge",
   "metadata": {
    "execution": {
     "iopub.execute_input": "2022-04-03T16:20:09.342020Z",
     "iopub.status.busy": "2022-04-03T16:20:09.341425Z",
     "iopub.status.idle": "2022-04-03T16:20:09.345048Z",
     "shell.execute_reply": "2022-04-03T16:20:09.345801Z",
     "shell.execute_reply.started": "2022-04-03T16:18:52.577269Z"
    },
    "papermill": {
     "duration": 0.053487,
     "end_time": "2022-04-03T16:20:09.346008",
     "exception": false,
     "start_time": "2022-04-03T16:20:09.292521",
     "status": "completed"
    },
    "tags": []
   },
   "outputs": [
    {
     "name": "stdout",
     "output_type": "stream",
     "text": [
      "The number of traning examples(data points) = 891\n",
      "The number of features = 12\n"
     ]
    }
   ],
   "source": [
    "print(f\"The number of traning examples(data points) = {train.shape[0]}\")\n",
    "print(f\"The number of features = {train.shape[1]}\")"
   ]
  },
  {
   "cell_type": "code",
   "execution_count": 5,
   "id": "devoted-auditor",
   "metadata": {
    "execution": {
     "iopub.execute_input": "2022-04-03T16:20:09.440911Z",
     "iopub.status.busy": "2022-04-03T16:20:09.440327Z",
     "iopub.status.idle": "2022-04-03T16:20:09.458076Z",
     "shell.execute_reply": "2022-04-03T16:20:09.458591Z",
     "shell.execute_reply.started": "2022-04-03T16:18:52.589341Z"
    },
    "papermill": {
     "duration": 0.067631,
     "end_time": "2022-04-03T16:20:09.458766",
     "exception": false,
     "start_time": "2022-04-03T16:20:09.391135",
     "status": "completed"
    },
    "tags": []
   },
   "outputs": [
    {
     "name": "stdout",
     "output_type": "stream",
     "text": [
      "<class 'pandas.core.frame.DataFrame'>\n",
      "RangeIndex: 891 entries, 0 to 890\n",
      "Data columns (total 12 columns):\n",
      " #   Column       Non-Null Count  Dtype  \n",
      "---  ------       --------------  -----  \n",
      " 0   PassengerId  891 non-null    int64  \n",
      " 1   Survived     891 non-null    int64  \n",
      " 2   Pclass       891 non-null    int64  \n",
      " 3   Name         891 non-null    object \n",
      " 4   Sex          891 non-null    object \n",
      " 5   Age          714 non-null    float64\n",
      " 6   SibSp        891 non-null    int64  \n",
      " 7   Parch        891 non-null    int64  \n",
      " 8   Ticket       891 non-null    object \n",
      " 9   Fare         891 non-null    float64\n",
      " 10  Cabin        204 non-null    object \n",
      " 11  Embarked     889 non-null    object \n",
      "dtypes: float64(2), int64(5), object(5)\n",
      "memory usage: 83.7+ KB\n"
     ]
    }
   ],
   "source": [
    "train.info()"
   ]
  },
  {
   "cell_type": "code",
   "execution_count": 6,
   "id": "characteristic-difference",
   "metadata": {
    "execution": {
     "iopub.execute_input": "2022-04-03T16:20:09.553982Z",
     "iopub.status.busy": "2022-04-03T16:20:09.553368Z",
     "iopub.status.idle": "2022-04-03T16:20:09.583383Z",
     "shell.execute_reply": "2022-04-03T16:20:09.583851Z",
     "shell.execute_reply.started": "2022-04-03T16:18:52.609264Z"
    },
    "papermill": {
     "duration": 0.078989,
     "end_time": "2022-04-03T16:20:09.584012",
     "exception": false,
     "start_time": "2022-04-03T16:20:09.505023",
     "status": "completed"
    },
    "tags": []
   },
   "outputs": [
    {
     "data": {
      "text/html": [
       "<div>\n",
       "<style scoped>\n",
       "    .dataframe tbody tr th:only-of-type {\n",
       "        vertical-align: middle;\n",
       "    }\n",
       "\n",
       "    .dataframe tbody tr th {\n",
       "        vertical-align: top;\n",
       "    }\n",
       "\n",
       "    .dataframe thead th {\n",
       "        text-align: right;\n",
       "    }\n",
       "</style>\n",
       "<table border=\"1\" class=\"dataframe\">\n",
       "  <thead>\n",
       "    <tr style=\"text-align: right;\">\n",
       "      <th></th>\n",
       "      <th>PassengerId</th>\n",
       "      <th>Survived</th>\n",
       "      <th>Pclass</th>\n",
       "      <th>Age</th>\n",
       "      <th>SibSp</th>\n",
       "      <th>Parch</th>\n",
       "      <th>Fare</th>\n",
       "    </tr>\n",
       "  </thead>\n",
       "  <tbody>\n",
       "    <tr>\n",
       "      <th>count</th>\n",
       "      <td>891.000000</td>\n",
       "      <td>891.000000</td>\n",
       "      <td>891.000000</td>\n",
       "      <td>714.000000</td>\n",
       "      <td>891.000000</td>\n",
       "      <td>891.000000</td>\n",
       "      <td>891.000000</td>\n",
       "    </tr>\n",
       "    <tr>\n",
       "      <th>mean</th>\n",
       "      <td>446.000000</td>\n",
       "      <td>0.383838</td>\n",
       "      <td>2.308642</td>\n",
       "      <td>29.699118</td>\n",
       "      <td>0.523008</td>\n",
       "      <td>0.381594</td>\n",
       "      <td>32.204208</td>\n",
       "    </tr>\n",
       "    <tr>\n",
       "      <th>std</th>\n",
       "      <td>257.353842</td>\n",
       "      <td>0.486592</td>\n",
       "      <td>0.836071</td>\n",
       "      <td>14.526497</td>\n",
       "      <td>1.102743</td>\n",
       "      <td>0.806057</td>\n",
       "      <td>49.693429</td>\n",
       "    </tr>\n",
       "    <tr>\n",
       "      <th>min</th>\n",
       "      <td>1.000000</td>\n",
       "      <td>0.000000</td>\n",
       "      <td>1.000000</td>\n",
       "      <td>0.420000</td>\n",
       "      <td>0.000000</td>\n",
       "      <td>0.000000</td>\n",
       "      <td>0.000000</td>\n",
       "    </tr>\n",
       "    <tr>\n",
       "      <th>25%</th>\n",
       "      <td>223.500000</td>\n",
       "      <td>0.000000</td>\n",
       "      <td>2.000000</td>\n",
       "      <td>20.125000</td>\n",
       "      <td>0.000000</td>\n",
       "      <td>0.000000</td>\n",
       "      <td>7.910400</td>\n",
       "    </tr>\n",
       "    <tr>\n",
       "      <th>50%</th>\n",
       "      <td>446.000000</td>\n",
       "      <td>0.000000</td>\n",
       "      <td>3.000000</td>\n",
       "      <td>28.000000</td>\n",
       "      <td>0.000000</td>\n",
       "      <td>0.000000</td>\n",
       "      <td>14.454200</td>\n",
       "    </tr>\n",
       "    <tr>\n",
       "      <th>75%</th>\n",
       "      <td>668.500000</td>\n",
       "      <td>1.000000</td>\n",
       "      <td>3.000000</td>\n",
       "      <td>38.000000</td>\n",
       "      <td>1.000000</td>\n",
       "      <td>0.000000</td>\n",
       "      <td>31.000000</td>\n",
       "    </tr>\n",
       "    <tr>\n",
       "      <th>max</th>\n",
       "      <td>891.000000</td>\n",
       "      <td>1.000000</td>\n",
       "      <td>3.000000</td>\n",
       "      <td>80.000000</td>\n",
       "      <td>8.000000</td>\n",
       "      <td>6.000000</td>\n",
       "      <td>512.329200</td>\n",
       "    </tr>\n",
       "  </tbody>\n",
       "</table>\n",
       "</div>"
      ],
      "text/plain": [
       "       PassengerId    Survived      Pclass         Age       SibSp  \\\n",
       "count   891.000000  891.000000  891.000000  714.000000  891.000000   \n",
       "mean    446.000000    0.383838    2.308642   29.699118    0.523008   \n",
       "std     257.353842    0.486592    0.836071   14.526497    1.102743   \n",
       "min       1.000000    0.000000    1.000000    0.420000    0.000000   \n",
       "25%     223.500000    0.000000    2.000000   20.125000    0.000000   \n",
       "50%     446.000000    0.000000    3.000000   28.000000    0.000000   \n",
       "75%     668.500000    1.000000    3.000000   38.000000    1.000000   \n",
       "max     891.000000    1.000000    3.000000   80.000000    8.000000   \n",
       "\n",
       "            Parch        Fare  \n",
       "count  891.000000  891.000000  \n",
       "mean     0.381594   32.204208  \n",
       "std      0.806057   49.693429  \n",
       "min      0.000000    0.000000  \n",
       "25%      0.000000    7.910400  \n",
       "50%      0.000000   14.454200  \n",
       "75%      0.000000   31.000000  \n",
       "max      6.000000  512.329200  "
      ]
     },
     "execution_count": 6,
     "metadata": {},
     "output_type": "execute_result"
    }
   ],
   "source": [
    "train.describe()"
   ]
  },
  {
   "cell_type": "markdown",
   "id": "spanish-welding",
   "metadata": {
    "papermill": {
     "duration": 0.046144,
     "end_time": "2022-04-03T16:20:09.676117",
     "exception": false,
     "start_time": "2022-04-03T16:20:09.629973",
     "status": "completed"
    },
    "tags": []
   },
   "source": [
    "# **Checking for null values:**"
   ]
  },
  {
   "cell_type": "code",
   "execution_count": 7,
   "id": "focused-robert",
   "metadata": {
    "execution": {
     "iopub.execute_input": "2022-04-03T16:20:09.768971Z",
     "iopub.status.busy": "2022-04-03T16:20:09.768393Z",
     "iopub.status.idle": "2022-04-03T16:20:09.775878Z",
     "shell.execute_reply": "2022-04-03T16:20:09.776495Z",
     "shell.execute_reply.started": "2022-04-03T16:18:52.648241Z"
    },
    "papermill": {
     "duration": 0.055409,
     "end_time": "2022-04-03T16:20:09.776787",
     "exception": false,
     "start_time": "2022-04-03T16:20:09.721378",
     "status": "completed"
    },
    "tags": []
   },
   "outputs": [
    {
     "data": {
      "text/plain": [
       "PassengerId      0\n",
       "Survived         0\n",
       "Pclass           0\n",
       "Name             0\n",
       "Sex              0\n",
       "Age            177\n",
       "SibSp            0\n",
       "Parch            0\n",
       "Ticket           0\n",
       "Fare             0\n",
       "Cabin          687\n",
       "Embarked         2\n",
       "dtype: int64"
      ]
     },
     "execution_count": 7,
     "metadata": {},
     "output_type": "execute_result"
    }
   ],
   "source": [
    "train.isnull().sum()"
   ]
  },
  {
   "cell_type": "markdown",
   "id": "interior-rochester",
   "metadata": {
    "papermill": {
     "duration": 0.045018,
     "end_time": "2022-04-03T16:20:09.866878",
     "exception": false,
     "start_time": "2022-04-03T16:20:09.821860",
     "status": "completed"
    },
    "tags": []
   },
   "source": [
    "Theoretically, 25 to 30% is the maximum missing values are allowed, beyond which we might want to drop the variable from analysis. "
   ]
  },
  {
   "cell_type": "code",
   "execution_count": 8,
   "id": "regulated-wagon",
   "metadata": {
    "execution": {
     "iopub.execute_input": "2022-04-03T16:20:09.962591Z",
     "iopub.status.busy": "2022-04-03T16:20:09.961687Z",
     "iopub.status.idle": "2022-04-03T16:20:09.982331Z",
     "shell.execute_reply": "2022-04-03T16:20:09.982900Z",
     "shell.execute_reply.started": "2022-04-03T16:18:52.660192Z"
    },
    "papermill": {
     "duration": 0.069723,
     "end_time": "2022-04-03T16:20:09.983069",
     "exception": false,
     "start_time": "2022-04-03T16:20:09.913346",
     "status": "completed"
    },
    "tags": []
   },
   "outputs": [
    {
     "data": {
      "text/plain": [
       "PassengerId    0.000000\n",
       "Survived       0.000000\n",
       "Pclass         0.000000\n",
       "Name           0.000000\n",
       "Sex            0.000000\n",
       "Age            0.198653\n",
       "SibSp          0.000000\n",
       "Parch          0.000000\n",
       "Ticket         0.000000\n",
       "Fare           0.000000\n",
       "Cabin          0.771044\n",
       "Embarked       0.002245\n",
       "dtype: float64"
      ]
     },
     "execution_count": 8,
     "metadata": {},
     "output_type": "execute_result"
    }
   ],
   "source": [
    "train.isnull().sum() / len(train)"
   ]
  },
  {
   "cell_type": "markdown",
   "id": "amazing-trace",
   "metadata": {
    "papermill": {
     "duration": 0.045436,
     "end_time": "2022-04-03T16:20:10.075870",
     "exception": false,
     "start_time": "2022-04-03T16:20:10.030434",
     "status": "completed"
    },
    "tags": []
   },
   "source": [
    "We can note that >25% of Cabin Data is null, hence it might be reasonable to just drop it completely. "
   ]
  },
  {
   "cell_type": "markdown",
   "id": "photographic-maple",
   "metadata": {
    "papermill": {
     "duration": 0.044928,
     "end_time": "2022-04-03T16:20:10.166563",
     "exception": false,
     "start_time": "2022-04-03T16:20:10.121635",
     "status": "completed"
    },
    "tags": []
   },
   "source": [
    "# Drop an Entire Column"
   ]
  },
  {
   "cell_type": "code",
   "execution_count": 9,
   "id": "accredited-manner",
   "metadata": {
    "execution": {
     "iopub.execute_input": "2022-04-03T16:20:10.259922Z",
     "iopub.status.busy": "2022-04-03T16:20:10.259354Z",
     "iopub.status.idle": "2022-04-03T16:20:10.263967Z",
     "shell.execute_reply": "2022-04-03T16:20:10.264408Z",
     "shell.execute_reply.started": "2022-04-03T16:18:52.674494Z"
    },
    "papermill": {
     "duration": 0.052496,
     "end_time": "2022-04-03T16:20:10.264551",
     "exception": false,
     "start_time": "2022-04-03T16:20:10.212055",
     "status": "completed"
    },
    "tags": []
   },
   "outputs": [],
   "source": [
    "train = train.drop(['Cabin'], axis=1)"
   ]
  },
  {
   "cell_type": "code",
   "execution_count": 10,
   "id": "saved-drunk",
   "metadata": {
    "execution": {
     "iopub.execute_input": "2022-04-03T16:20:10.357263Z",
     "iopub.status.busy": "2022-04-03T16:20:10.356739Z",
     "iopub.status.idle": "2022-04-03T16:20:10.361144Z",
     "shell.execute_reply": "2022-04-03T16:20:10.361653Z",
     "shell.execute_reply.started": "2022-04-03T16:18:52.682702Z"
    },
    "papermill": {
     "duration": 0.052026,
     "end_time": "2022-04-03T16:20:10.361800",
     "exception": false,
     "start_time": "2022-04-03T16:20:10.309774",
     "status": "completed"
    },
    "tags": []
   },
   "outputs": [],
   "source": [
    "train.drop('PassengerId', inplace=True, axis=1)"
   ]
  },
  {
   "cell_type": "markdown",
   "id": "third-experience",
   "metadata": {
    "papermill": {
     "duration": 0.050026,
     "end_time": "2022-04-03T16:20:10.457178",
     "exception": false,
     "start_time": "2022-04-03T16:20:10.407152",
     "status": "completed"
    },
    "tags": []
   },
   "source": [
    "# Replace Null Values with Mean Values"
   ]
  },
  {
   "cell_type": "code",
   "execution_count": 11,
   "id": "removed-anniversary",
   "metadata": {
    "execution": {
     "iopub.execute_input": "2022-04-03T16:20:10.568245Z",
     "iopub.status.busy": "2022-04-03T16:20:10.567713Z",
     "iopub.status.idle": "2022-04-03T16:20:10.572630Z",
     "shell.execute_reply": "2022-04-03T16:20:10.573099Z",
     "shell.execute_reply.started": "2022-04-03T16:18:52.693859Z"
    },
    "papermill": {
     "duration": 0.059004,
     "end_time": "2022-04-03T16:20:10.573249",
     "exception": false,
     "start_time": "2022-04-03T16:20:10.514245",
     "status": "completed"
    },
    "tags": []
   },
   "outputs": [],
   "source": [
    "train['Age'].fillna((train['Age'].mean()), inplace=True)"
   ]
  },
  {
   "cell_type": "markdown",
   "id": "enormous-secret",
   "metadata": {
    "papermill": {
     "duration": 0.044999,
     "end_time": "2022-04-03T16:20:10.663589",
     "exception": false,
     "start_time": "2022-04-03T16:20:10.618590",
     "status": "completed"
    },
    "tags": []
   },
   "source": [
    "# Checking for duplicates"
   ]
  },
  {
   "cell_type": "code",
   "execution_count": 12,
   "id": "intermediate-functionality",
   "metadata": {
    "execution": {
     "iopub.execute_input": "2022-04-03T16:20:10.770393Z",
     "iopub.status.busy": "2022-04-03T16:20:10.769465Z",
     "iopub.status.idle": "2022-04-03T16:20:10.776923Z",
     "shell.execute_reply": "2022-04-03T16:20:10.777420Z",
     "shell.execute_reply.started": "2022-04-03T16:18:52.704665Z"
    },
    "papermill": {
     "duration": 0.064273,
     "end_time": "2022-04-03T16:20:10.777581",
     "exception": false,
     "start_time": "2022-04-03T16:20:10.713308",
     "status": "completed"
    },
    "tags": []
   },
   "outputs": [
    {
     "data": {
      "text/plain": [
       "0"
      ]
     },
     "execution_count": 12,
     "metadata": {},
     "output_type": "execute_result"
    }
   ],
   "source": [
    "duplicate = train[train.duplicated()]\n",
    "duplicate.size"
   ]
  },
  {
   "cell_type": "markdown",
   "id": "simple-harassment",
   "metadata": {
    "papermill": {
     "duration": 0.045178,
     "end_time": "2022-04-03T16:20:10.868749",
     "exception": false,
     "start_time": "2022-04-03T16:20:10.823571",
     "status": "completed"
    },
    "tags": []
   },
   "source": [
    "# Binning"
   ]
  },
  {
   "cell_type": "markdown",
   "id": "external-stock",
   "metadata": {
    "papermill": {
     "duration": 0.046541,
     "end_time": "2022-04-03T16:20:10.962186",
     "exception": false,
     "start_time": "2022-04-03T16:20:10.915645",
     "status": "completed"
    },
    "tags": []
   },
   "source": [
    "We can divide the age column into categories.\n",
    "If we choose 6 classes, we would be going with intervals of 13. "
   ]
  },
  {
   "cell_type": "code",
   "execution_count": 13,
   "id": "scientific-white",
   "metadata": {
    "execution": {
     "iopub.execute_input": "2022-04-03T16:20:11.064721Z",
     "iopub.status.busy": "2022-04-03T16:20:11.063982Z",
     "iopub.status.idle": "2022-04-03T16:20:11.079153Z",
     "shell.execute_reply": "2022-04-03T16:20:11.079582Z",
     "shell.execute_reply.started": "2022-04-03T16:18:52.720533Z"
    },
    "papermill": {
     "duration": 0.070827,
     "end_time": "2022-04-03T16:20:11.079762",
     "exception": false,
     "start_time": "2022-04-03T16:20:11.008935",
     "status": "completed"
    },
    "tags": []
   },
   "outputs": [
    {
     "data": {
      "text/plain": [
       "(0.339, 13.683]      71\n",
       "(13.683, 26.947]    248\n",
       "(26.947, 40.21]     422\n",
       "(40.21, 53.473]     100\n",
       "(53.473, 66.737]     43\n",
       "(66.737, 80.0]        7\n",
       "Name: Age, dtype: int64"
      ]
     },
     "execution_count": 13,
     "metadata": {},
     "output_type": "execute_result"
    }
   ],
   "source": [
    "train['Age'].value_counts(bins=6, sort=False)"
   ]
  },
  {
   "cell_type": "markdown",
   "id": "charitable-sponsorship",
   "metadata": {
    "papermill": {
     "duration": 0.045715,
     "end_time": "2022-04-03T16:20:11.172105",
     "exception": false,
     "start_time": "2022-04-03T16:20:11.126390",
     "status": "completed"
    },
    "tags": []
   },
   "source": [
    "# Binning Data"
   ]
  },
  {
   "cell_type": "code",
   "execution_count": 14,
   "id": "tutorial-empty",
   "metadata": {
    "execution": {
     "iopub.execute_input": "2022-04-03T16:20:11.270365Z",
     "iopub.status.busy": "2022-04-03T16:20:11.269822Z",
     "iopub.status.idle": "2022-04-03T16:20:11.286642Z",
     "shell.execute_reply": "2022-04-03T16:20:11.287147Z",
     "shell.execute_reply.started": "2022-04-03T16:18:52.735225Z"
    },
    "papermill": {
     "duration": 0.069536,
     "end_time": "2022-04-03T16:20:11.287292",
     "exception": false,
     "start_time": "2022-04-03T16:20:11.217756",
     "status": "completed"
    },
    "tags": []
   },
   "outputs": [
    {
     "data": {
      "text/html": [
       "<div>\n",
       "<style scoped>\n",
       "    .dataframe tbody tr th:only-of-type {\n",
       "        vertical-align: middle;\n",
       "    }\n",
       "\n",
       "    .dataframe tbody tr th {\n",
       "        vertical-align: top;\n",
       "    }\n",
       "\n",
       "    .dataframe thead th {\n",
       "        text-align: right;\n",
       "    }\n",
       "</style>\n",
       "<table border=\"1\" class=\"dataframe\">\n",
       "  <thead>\n",
       "    <tr style=\"text-align: right;\">\n",
       "      <th></th>\n",
       "      <th>Survived</th>\n",
       "      <th>Pclass</th>\n",
       "      <th>Name</th>\n",
       "      <th>Sex</th>\n",
       "      <th>Age</th>\n",
       "      <th>SibSp</th>\n",
       "      <th>Parch</th>\n",
       "      <th>Ticket</th>\n",
       "      <th>Fare</th>\n",
       "      <th>Embarked</th>\n",
       "      <th>AgeCategory</th>\n",
       "    </tr>\n",
       "  </thead>\n",
       "  <tbody>\n",
       "    <tr>\n",
       "      <th>0</th>\n",
       "      <td>0</td>\n",
       "      <td>3</td>\n",
       "      <td>Braund, Mr. Owen Harris</td>\n",
       "      <td>male</td>\n",
       "      <td>22.0</td>\n",
       "      <td>1</td>\n",
       "      <td>0</td>\n",
       "      <td>A/5 21171</td>\n",
       "      <td>7.2500</td>\n",
       "      <td>S</td>\n",
       "      <td>1</td>\n",
       "    </tr>\n",
       "    <tr>\n",
       "      <th>1</th>\n",
       "      <td>1</td>\n",
       "      <td>1</td>\n",
       "      <td>Cumings, Mrs. John Bradley (Florence Briggs Th...</td>\n",
       "      <td>female</td>\n",
       "      <td>38.0</td>\n",
       "      <td>1</td>\n",
       "      <td>0</td>\n",
       "      <td>PC 17599</td>\n",
       "      <td>71.2833</td>\n",
       "      <td>C</td>\n",
       "      <td>2</td>\n",
       "    </tr>\n",
       "    <tr>\n",
       "      <th>2</th>\n",
       "      <td>1</td>\n",
       "      <td>3</td>\n",
       "      <td>Heikkinen, Miss. Laina</td>\n",
       "      <td>female</td>\n",
       "      <td>26.0</td>\n",
       "      <td>0</td>\n",
       "      <td>0</td>\n",
       "      <td>STON/O2. 3101282</td>\n",
       "      <td>7.9250</td>\n",
       "      <td>S</td>\n",
       "      <td>1</td>\n",
       "    </tr>\n",
       "    <tr>\n",
       "      <th>3</th>\n",
       "      <td>1</td>\n",
       "      <td>1</td>\n",
       "      <td>Futrelle, Mrs. Jacques Heath (Lily May Peel)</td>\n",
       "      <td>female</td>\n",
       "      <td>35.0</td>\n",
       "      <td>1</td>\n",
       "      <td>0</td>\n",
       "      <td>113803</td>\n",
       "      <td>53.1000</td>\n",
       "      <td>S</td>\n",
       "      <td>2</td>\n",
       "    </tr>\n",
       "    <tr>\n",
       "      <th>4</th>\n",
       "      <td>0</td>\n",
       "      <td>3</td>\n",
       "      <td>Allen, Mr. William Henry</td>\n",
       "      <td>male</td>\n",
       "      <td>35.0</td>\n",
       "      <td>0</td>\n",
       "      <td>0</td>\n",
       "      <td>373450</td>\n",
       "      <td>8.0500</td>\n",
       "      <td>S</td>\n",
       "      <td>2</td>\n",
       "    </tr>\n",
       "  </tbody>\n",
       "</table>\n",
       "</div>"
      ],
      "text/plain": [
       "   Survived  Pclass                                               Name  \\\n",
       "0         0       3                            Braund, Mr. Owen Harris   \n",
       "1         1       1  Cumings, Mrs. John Bradley (Florence Briggs Th...   \n",
       "2         1       3                             Heikkinen, Miss. Laina   \n",
       "3         1       1       Futrelle, Mrs. Jacques Heath (Lily May Peel)   \n",
       "4         0       3                           Allen, Mr. William Henry   \n",
       "\n",
       "      Sex   Age  SibSp  Parch            Ticket     Fare Embarked  AgeCategory  \n",
       "0    male  22.0      1      0         A/5 21171   7.2500        S            1  \n",
       "1  female  38.0      1      0          PC 17599  71.2833        C            2  \n",
       "2  female  26.0      0      0  STON/O2. 3101282   7.9250        S            1  \n",
       "3  female  35.0      1      0            113803  53.1000        S            2  \n",
       "4    male  35.0      0      0            373450   8.0500        S            2  "
      ]
     },
     "execution_count": 14,
     "metadata": {},
     "output_type": "execute_result"
    }
   ],
   "source": [
    "train['Age'].fillna((train['Age'].mean()), inplace=True)  # Fill nan values with mean age number \n",
    "\n",
    "bins = [0, 13, 26, 40, 53, 66, 80]\n",
    "names = ['<13', '13-26', '26-40', '40-53', '53-66','66-80']\n",
    "\n",
    "train['AgeCategory'] = pd.cut(train['Age'], bins, labels=names)\n",
    "\n",
    "NumberedAgeCategories = {'<13': 0 , '13-26': 1, '26-40': 2, '40-53': 3, '53-66': 4,'66-80': 5}\n",
    "train['AgeCategory'] = train['AgeCategory'].map(NumberedAgeCategories)  \n",
    "train['AgeCategory'] = pd.to_numeric(train['AgeCategory'])\n",
    "train.head()"
   ]
  },
  {
   "cell_type": "markdown",
   "id": "choice-universal",
   "metadata": {
    "papermill": {
     "duration": 0.046265,
     "end_time": "2022-04-03T16:20:11.379568",
     "exception": false,
     "start_time": "2022-04-03T16:20:11.333303",
     "status": "completed"
    },
    "tags": []
   },
   "source": [
    "# Creating a New Column"
   ]
  },
  {
   "cell_type": "markdown",
   "id": "painful-lambda",
   "metadata": {
    "papermill": {
     "duration": 0.046725,
     "end_time": "2022-04-03T16:20:11.473212",
     "exception": false,
     "start_time": "2022-04-03T16:20:11.426487",
     "status": "completed"
    },
    "tags": []
   },
   "source": [
    "Add the number of siblings/spouses to the parch (parch is also part of the family)."
   ]
  },
  {
   "cell_type": "code",
   "execution_count": 15,
   "id": "departmental-community",
   "metadata": {
    "execution": {
     "iopub.execute_input": "2022-04-03T16:20:11.569355Z",
     "iopub.status.busy": "2022-04-03T16:20:11.568773Z",
     "iopub.status.idle": "2022-04-03T16:20:11.573120Z",
     "shell.execute_reply": "2022-04-03T16:20:11.573583Z",
     "shell.execute_reply.started": "2022-04-03T16:18:52.762160Z"
    },
    "papermill": {
     "duration": 0.053871,
     "end_time": "2022-04-03T16:20:11.573743",
     "exception": false,
     "start_time": "2022-04-03T16:20:11.519872",
     "status": "completed"
    },
    "tags": []
   },
   "outputs": [],
   "source": [
    "train['FamilySize'] = train['SibSp'] + train['Parch'] + 1"
   ]
  },
  {
   "cell_type": "markdown",
   "id": "three-waters",
   "metadata": {
    "papermill": {
     "duration": 0.047893,
     "end_time": "2022-04-03T16:20:11.668188",
     "exception": false,
     "start_time": "2022-04-03T16:20:11.620295",
     "status": "completed"
    },
    "tags": []
   },
   "source": [
    "# Outliers"
   ]
  },
  {
   "cell_type": "markdown",
   "id": "featured-victoria",
   "metadata": {
    "papermill": {
     "duration": 0.046135,
     "end_time": "2022-04-03T16:20:11.760471",
     "exception": false,
     "start_time": "2022-04-03T16:20:11.714336",
     "status": "completed"
    },
    "tags": []
   },
   "source": [
    "# Boxplot"
   ]
  },
  {
   "cell_type": "code",
   "execution_count": 16,
   "id": "configured-bidding",
   "metadata": {
    "execution": {
     "iopub.execute_input": "2022-04-03T16:20:11.855216Z",
     "iopub.status.busy": "2022-04-03T16:20:11.854661Z",
     "iopub.status.idle": "2022-04-03T16:20:12.208051Z",
     "shell.execute_reply": "2022-04-03T16:20:12.208578Z",
     "shell.execute_reply.started": "2022-04-03T16:18:52.768887Z"
    },
    "papermill": {
     "duration": 0.402188,
     "end_time": "2022-04-03T16:20:12.208751",
     "exception": false,
     "start_time": "2022-04-03T16:20:11.806563",
     "status": "completed"
    },
    "tags": []
   },
   "outputs": [
    {
     "data": {
      "image/png": "[encoded data removed]",
      "text/plain": [
       "<Figure size 1080x432 with 2 Axes>"
      ]
     },
     "metadata": {
      "needs_background": "light"
     },
     "output_type": "display_data"
    }
   ],
   "source": [
    "# Make boxplots to visualise outliers in the continuous variables-\n",
    "# Age and Fare\n",
    " \n",
    "plt.figure(figsize=(15,6))\n",
    "plt.subplot(1, 2, 1)\n",
    "fig = train.boxplot(column='Age')\n",
    "fig.set_title('')\n",
    "fig.set_ylabel('Age')\n",
    " \n",
    "plt.subplot(1, 2, 2)\n",
    "fig = train.boxplot(column='Fare')\n",
    "fig.set_title('')\n",
    "fig.set_ylabel('Fare');"
   ]
  },
  {
   "cell_type": "code",
   "execution_count": 17,
   "id": "complicated-thanksgiving",
   "metadata": {
    "execution": {
     "iopub.execute_input": "2022-04-03T16:20:12.306250Z",
     "iopub.status.busy": "2022-04-03T16:20:12.305652Z",
     "iopub.status.idle": "2022-04-03T16:20:12.576347Z",
     "shell.execute_reply": "2022-04-03T16:20:12.575495Z",
     "shell.execute_reply.started": "2022-04-03T16:18:53.021799Z"
    },
    "papermill": {
     "duration": 0.320751,
     "end_time": "2022-04-03T16:20:12.576487",
     "exception": false,
     "start_time": "2022-04-03T16:20:12.255736",
     "status": "completed"
    },
    "tags": []
   },
   "outputs": [
    {
     "data": {
      "image/png": "[encoded data removed]",
      "text/plain": [
       "<Figure size 360x360 with 1 Axes>"
      ]
     },
     "metadata": {
      "needs_background": "light"
     },
     "output_type": "display_data"
    }
   ],
   "source": [
    "# Explore Age distribution \n",
    "sns.displot(train[\"Age\"]);"
   ]
  },
  {
   "cell_type": "markdown",
   "id": "final-wayne",
   "metadata": {
    "papermill": {
     "duration": 0.047579,
     "end_time": "2022-04-03T16:20:12.672133",
     "exception": false,
     "start_time": "2022-04-03T16:20:12.624554",
     "status": "completed"
    },
    "tags": []
   },
   "source": [
    "# Detect outliers"
   ]
  },
  {
   "cell_type": "code",
   "execution_count": 18,
   "id": "outdoor-qatar",
   "metadata": {
    "execution": {
     "iopub.execute_input": "2022-04-03T16:20:12.771494Z",
     "iopub.status.busy": "2022-04-03T16:20:12.770637Z",
     "iopub.status.idle": "2022-04-03T16:20:12.777729Z",
     "shell.execute_reply": "2022-04-03T16:20:12.778516Z",
     "shell.execute_reply.started": "2022-04-03T16:18:53.371716Z"
    },
    "papermill": {
     "duration": 0.058619,
     "end_time": "2022-04-03T16:20:12.778773",
     "exception": false,
     "start_time": "2022-04-03T16:20:12.720154",
     "status": "completed"
    },
    "tags": []
   },
   "outputs": [
    {
     "name": "stdout",
     "output_type": "stream",
     "text": [
      "Age outliers are values < -9.306928030949827 or > 68.70516332506747\n"
     ]
    }
   ],
   "source": [
    "upper, lower = [train.Age.mean() + sign * 3 * train.Age.std() for sign in [1, -1]]\n",
    "print(f'Age outliers are values < {lower} or > {upper}')"
   ]
  },
  {
   "cell_type": "code",
   "execution_count": 19,
   "id": "activated-monitoring",
   "metadata": {
    "execution": {
     "iopub.execute_input": "2022-04-03T16:20:12.878603Z",
     "iopub.status.busy": "2022-04-03T16:20:12.877755Z",
     "iopub.status.idle": "2022-04-03T16:20:12.885419Z",
     "shell.execute_reply": "2022-04-03T16:20:12.885945Z",
     "shell.execute_reply.started": "2022-04-03T16:18:53.381943Z"
    },
    "papermill": {
     "duration": 0.05868,
     "end_time": "2022-04-03T16:20:12.886092",
     "exception": false,
     "start_time": "2022-04-03T16:20:12.827412",
     "status": "completed"
    },
    "tags": []
   },
   "outputs": [
    {
     "data": {
      "text/plain": [
       "96     71.0\n",
       "116    70.5\n",
       "493    71.0\n",
       "630    80.0\n",
       "672    70.0\n",
       "745    70.0\n",
       "851    74.0\n",
       "Name: Age, dtype: float64"
      ]
     },
     "execution_count": 19,
     "metadata": {},
     "output_type": "execute_result"
    }
   ],
   "source": [
    "outliers = train[train['Age']>upper]['Age']\n",
    "outliers"
   ]
  },
  {
   "cell_type": "markdown",
   "id": "streaming-sunday",
   "metadata": {
    "papermill": {
     "duration": 0.048349,
     "end_time": "2022-04-03T16:20:12.982902",
     "exception": false,
     "start_time": "2022-04-03T16:20:12.934553",
     "status": "completed"
    },
    "tags": []
   },
   "source": [
    "these values seem reasonable for the 'Age' feature, so we will leave them as they are. "
   ]
  },
  {
   "cell_type": "code",
   "execution_count": 20,
   "id": "considered-pharmaceutical",
   "metadata": {
    "execution": {
     "iopub.execute_input": "2022-04-03T16:20:13.085879Z",
     "iopub.status.busy": "2022-04-03T16:20:13.085336Z",
     "iopub.status.idle": "2022-04-03T16:20:13.488593Z",
     "shell.execute_reply": "2022-04-03T16:20:13.488058Z",
     "shell.execute_reply.started": "2022-04-03T16:18:53.395561Z"
    },
    "papermill": {
     "duration": 0.457731,
     "end_time": "2022-04-03T16:20:13.488746",
     "exception": false,
     "start_time": "2022-04-03T16:20:13.031015",
     "status": "completed"
    },
    "tags": []
   },
   "outputs": [
    {
     "data": {
      "image/png": "[encoded data removed]",
      "text/plain": [
       "<Figure size 360x360 with 1 Axes>"
      ]
     },
     "metadata": {
      "needs_background": "light"
     },
     "output_type": "display_data"
    }
   ],
   "source": [
    "# Explore Fare distribution \n",
    "sns.displot(train[\"Fare\"]);"
   ]
  },
  {
   "cell_type": "markdown",
   "id": "early-silly",
   "metadata": {
    "papermill": {
     "duration": 0.049428,
     "end_time": "2022-04-03T16:20:13.588763",
     "exception": false,
     "start_time": "2022-04-03T16:20:13.539335",
     "status": "completed"
    },
    "tags": []
   },
   "source": [
    "Age has a normal distribution while the fare feature has skewed distribution."
   ]
  },
  {
   "cell_type": "markdown",
   "id": "royal-finance",
   "metadata": {
    "papermill": {
     "duration": 0.048588,
     "end_time": "2022-04-03T16:20:13.687268",
     "exception": false,
     "start_time": "2022-04-03T16:20:13.638680",
     "status": "completed"
    },
    "tags": []
   },
   "source": [
    "As we can see, Fare distribution is very skewed. This can lead to overweighing very high values in the model, even if it is scaled.\n",
    "\n",
    "In this case, it is better to transform it with the log function to reduce this skew."
   ]
  },
  {
   "cell_type": "markdown",
   "id": "north-stanford",
   "metadata": {
    "papermill": {
     "duration": 0.048162,
     "end_time": "2022-04-03T16:20:13.784005",
     "exception": false,
     "start_time": "2022-04-03T16:20:13.735843",
     "status": "completed"
    },
    "tags": []
   },
   "source": [
    "# Map a Column to a Function"
   ]
  },
  {
   "cell_type": "code",
   "execution_count": 21,
   "id": "opened-google",
   "metadata": {
    "execution": {
     "iopub.execute_input": "2022-04-03T16:20:13.884597Z",
     "iopub.status.busy": "2022-04-03T16:20:13.884032Z",
     "iopub.status.idle": "2022-04-03T16:20:13.889310Z",
     "shell.execute_reply": "2022-04-03T16:20:13.889810Z",
     "shell.execute_reply.started": "2022-04-03T16:18:53.776123Z"
    },
    "papermill": {
     "duration": 0.057456,
     "end_time": "2022-04-03T16:20:13.889971",
     "exception": false,
     "start_time": "2022-04-03T16:20:13.832515",
     "status": "completed"
    },
    "tags": []
   },
   "outputs": [],
   "source": [
    "# Handle a right skewed distribution by taking the logarithm\n",
    "train[\"Fare\"] = train[\"Fare\"].map(lambda i: np.log(i) if i > 0 else 0)"
   ]
  },
  {
   "cell_type": "code",
   "execution_count": 22,
   "id": "noticed-roads",
   "metadata": {
    "execution": {
     "iopub.execute_input": "2022-04-03T16:20:13.991888Z",
     "iopub.status.busy": "2022-04-03T16:20:13.991336Z",
     "iopub.status.idle": "2022-04-03T16:20:14.267726Z",
     "shell.execute_reply": "2022-04-03T16:20:14.268249Z",
     "shell.execute_reply.started": "2022-04-03T16:18:53.785437Z"
    },
    "papermill": {
     "duration": 0.327734,
     "end_time": "2022-04-03T16:20:14.268408",
     "exception": false,
     "start_time": "2022-04-03T16:20:13.940674",
     "status": "completed"
    },
    "tags": []
   },
   "outputs": [
    {
     "data": {
      "image/png": "[encoded data removed]",
      "text/plain": [
       "<Figure size 360x360 with 1 Axes>"
      ]
     },
     "metadata": {
      "needs_background": "light"
     },
     "output_type": "display_data"
    }
   ],
   "source": [
    "sns.displot(train[\"Fare\"]);"
   ]
  },
  {
   "cell_type": "markdown",
   "id": "integral-motor",
   "metadata": {
    "papermill": {
     "duration": 0.05068,
     "end_time": "2022-04-03T16:20:14.369432",
     "exception": false,
     "start_time": "2022-04-03T16:20:14.318752",
     "status": "completed"
    },
    "tags": []
   },
   "source": [
    "# Preparing Data for the Model "
   ]
  },
  {
   "cell_type": "code",
   "execution_count": 23,
   "id": "crucial-rehabilitation",
   "metadata": {
    "execution": {
     "iopub.execute_input": "2022-04-03T16:20:14.472803Z",
     "iopub.status.busy": "2022-04-03T16:20:14.472223Z",
     "iopub.status.idle": "2022-04-03T16:20:14.477569Z",
     "shell.execute_reply": "2022-04-03T16:20:14.478109Z",
     "shell.execute_reply.started": "2022-04-03T16:18:54.030269Z"
    },
    "papermill": {
     "duration": 0.058825,
     "end_time": "2022-04-03T16:20:14.478268",
     "exception": false,
     "start_time": "2022-04-03T16:20:14.419443",
     "status": "completed"
    },
    "tags": []
   },
   "outputs": [
    {
     "data": {
      "text/plain": [
       "Index(['Name', 'Sex', 'Ticket', 'Embarked'], dtype='object')"
      ]
     },
     "execution_count": 23,
     "metadata": {},
     "output_type": "execute_result"
    }
   ],
   "source": [
    "train.columns[train.dtypes==object]"
   ]
  },
  {
   "cell_type": "code",
   "execution_count": 24,
   "id": "sporting-alberta",
   "metadata": {
    "execution": {
     "iopub.execute_input": "2022-04-03T16:20:14.580837Z",
     "iopub.status.busy": "2022-04-03T16:20:14.579558Z",
     "iopub.status.idle": "2022-04-03T16:20:14.584421Z",
     "shell.execute_reply": "2022-04-03T16:20:14.585273Z",
     "shell.execute_reply.started": "2022-04-03T16:18:54.039508Z"
    },
    "papermill": {
     "duration": 0.057928,
     "end_time": "2022-04-03T16:20:14.585429",
     "exception": false,
     "start_time": "2022-04-03T16:20:14.527501",
     "status": "completed"
    },
    "tags": []
   },
   "outputs": [],
   "source": [
    "cleanup_nums = { \"Embarked\": \n",
    "                    {\"S\": 0, \"C\": 1, \"Q\": 2 },\n",
    "                \n",
    "                \"Sex\": \n",
    "                    {\"male\": 0, \"female\": 1}\n",
    "               }"
   ]
  },
  {
   "cell_type": "code",
   "execution_count": 25,
   "id": "disciplinary-football",
   "metadata": {
    "execution": {
     "iopub.execute_input": "2022-04-03T16:20:14.702676Z",
     "iopub.status.busy": "2022-04-03T16:20:14.702062Z",
     "iopub.status.idle": "2022-04-03T16:20:14.705588Z",
     "shell.execute_reply": "2022-04-03T16:20:14.706026Z",
     "shell.execute_reply.started": "2022-04-03T16:18:54.050275Z"
    },
    "papermill": {
     "duration": 0.07146,
     "end_time": "2022-04-03T16:20:14.706184",
     "exception": false,
     "start_time": "2022-04-03T16:20:14.634724",
     "status": "completed"
    },
    "tags": []
   },
   "outputs": [
    {
     "data": {
      "text/html": [
       "<div>\n",
       "<style scoped>\n",
       "    .dataframe tbody tr th:only-of-type {\n",
       "        vertical-align: middle;\n",
       "    }\n",
       "\n",
       "    .dataframe tbody tr th {\n",
       "        vertical-align: top;\n",
       "    }\n",
       "\n",
       "    .dataframe thead th {\n",
       "        text-align: right;\n",
       "    }\n",
       "</style>\n",
       "<table border=\"1\" class=\"dataframe\">\n",
       "  <thead>\n",
       "    <tr style=\"text-align: right;\">\n",
       "      <th></th>\n",
       "      <th>Survived</th>\n",
       "      <th>Pclass</th>\n",
       "      <th>Name</th>\n",
       "      <th>Sex</th>\n",
       "      <th>Age</th>\n",
       "      <th>SibSp</th>\n",
       "      <th>Parch</th>\n",
       "      <th>Ticket</th>\n",
       "      <th>Fare</th>\n",
       "      <th>Embarked</th>\n",
       "      <th>AgeCategory</th>\n",
       "      <th>FamilySize</th>\n",
       "    </tr>\n",
       "  </thead>\n",
       "  <tbody>\n",
       "    <tr>\n",
       "      <th>0</th>\n",
       "      <td>0</td>\n",
       "      <td>3</td>\n",
       "      <td>Braund, Mr. Owen Harris</td>\n",
       "      <td>0</td>\n",
       "      <td>22.0</td>\n",
       "      <td>1</td>\n",
       "      <td>0</td>\n",
       "      <td>A/5 21171</td>\n",
       "      <td>1.981001</td>\n",
       "      <td>0.0</td>\n",
       "      <td>1</td>\n",
       "      <td>2</td>\n",
       "    </tr>\n",
       "    <tr>\n",
       "      <th>1</th>\n",
       "      <td>1</td>\n",
       "      <td>1</td>\n",
       "      <td>Cumings, Mrs. John Bradley (Florence Briggs Th...</td>\n",
       "      <td>1</td>\n",
       "      <td>38.0</td>\n",
       "      <td>1</td>\n",
       "      <td>0</td>\n",
       "      <td>PC 17599</td>\n",
       "      <td>4.266662</td>\n",
       "      <td>1.0</td>\n",
       "      <td>2</td>\n",
       "      <td>2</td>\n",
       "    </tr>\n",
       "    <tr>\n",
       "      <th>2</th>\n",
       "      <td>1</td>\n",
       "      <td>3</td>\n",
       "      <td>Heikkinen, Miss. Laina</td>\n",
       "      <td>1</td>\n",
       "      <td>26.0</td>\n",
       "      <td>0</td>\n",
       "      <td>0</td>\n",
       "      <td>STON/O2. 3101282</td>\n",
       "      <td>2.070022</td>\n",
       "      <td>0.0</td>\n",
       "      <td>1</td>\n",
       "      <td>1</td>\n",
       "    </tr>\n",
       "    <tr>\n",
       "      <th>3</th>\n",
       "      <td>1</td>\n",
       "      <td>1</td>\n",
       "      <td>Futrelle, Mrs. Jacques Heath (Lily May Peel)</td>\n",
       "      <td>1</td>\n",
       "      <td>35.0</td>\n",
       "      <td>1</td>\n",
       "      <td>0</td>\n",
       "      <td>113803</td>\n",
       "      <td>3.972177</td>\n",
       "      <td>0.0</td>\n",
       "      <td>2</td>\n",
       "      <td>2</td>\n",
       "    </tr>\n",
       "    <tr>\n",
       "      <th>4</th>\n",
       "      <td>0</td>\n",
       "      <td>3</td>\n",
       "      <td>Allen, Mr. William Henry</td>\n",
       "      <td>0</td>\n",
       "      <td>35.0</td>\n",
       "      <td>0</td>\n",
       "      <td>0</td>\n",
       "      <td>373450</td>\n",
       "      <td>2.085672</td>\n",
       "      <td>0.0</td>\n",
       "      <td>2</td>\n",
       "      <td>1</td>\n",
       "    </tr>\n",
       "  </tbody>\n",
       "</table>\n",
       "</div>"
      ],
      "text/plain": [
       "   Survived  Pclass                                               Name  Sex  \\\n",
       "0         0       3                            Braund, Mr. Owen Harris    0   \n",
       "1         1       1  Cumings, Mrs. John Bradley (Florence Briggs Th...    1   \n",
       "2         1       3                             Heikkinen, Miss. Laina    1   \n",
       "3         1       1       Futrelle, Mrs. Jacques Heath (Lily May Peel)    1   \n",
       "4         0       3                           Allen, Mr. William Henry    0   \n",
       "\n",
       "    Age  SibSp  Parch            Ticket      Fare  Embarked  AgeCategory  \\\n",
       "0  22.0      1      0         A/5 21171  1.981001       0.0            1   \n",
       "1  38.0      1      0          PC 17599  4.266662       1.0            2   \n",
       "2  26.0      0      0  STON/O2. 3101282  2.070022       0.0            1   \n",
       "3  35.0      1      0            113803  3.972177       0.0            2   \n",
       "4  35.0      0      0            373450  2.085672       0.0            2   \n",
       "\n",
       "   FamilySize  \n",
       "0           2  \n",
       "1           2  \n",
       "2           1  \n",
       "3           2  \n",
       "4           1  "
      ]
     },
     "execution_count": 25,
     "metadata": {},
     "output_type": "execute_result"
    }
   ],
   "source": [
    "train.replace(cleanup_nums, inplace=True)\n",
    "train.head()"
   ]
  },
  {
   "cell_type": "code",
   "execution_count": 26,
   "id": "soviet-wrist",
   "metadata": {
    "execution": {
     "iopub.execute_input": "2022-04-03T16:20:14.811358Z",
     "iopub.status.busy": "2022-04-03T16:20:14.810777Z",
     "iopub.status.idle": "2022-04-03T16:20:14.814206Z",
     "shell.execute_reply": "2022-04-03T16:20:14.814670Z",
     "shell.execute_reply.started": "2022-04-03T16:18:54.080006Z"
    },
    "papermill": {
     "duration": 0.058504,
     "end_time": "2022-04-03T16:20:14.814826",
     "exception": false,
     "start_time": "2022-04-03T16:20:14.756322",
     "status": "completed"
    },
    "tags": []
   },
   "outputs": [
    {
     "data": {
      "text/plain": [
       "681"
      ]
     },
     "execution_count": 26,
     "metadata": {},
     "output_type": "execute_result"
    }
   ],
   "source": [
    "train['Ticket'].unique().size"
   ]
  },
  {
   "cell_type": "markdown",
   "id": "instrumental-county",
   "metadata": {
    "papermill": {
     "duration": 0.049477,
     "end_time": "2022-04-03T16:20:14.914418",
     "exception": false,
     "start_time": "2022-04-03T16:20:14.864941",
     "status": "completed"
    },
    "tags": []
   },
   "source": [
    "Extracting information from 'Name' column:"
   ]
  },
  {
   "cell_type": "code",
   "execution_count": 27,
   "id": "antique-review",
   "metadata": {
    "execution": {
     "iopub.execute_input": "2022-04-03T16:20:15.017469Z",
     "iopub.status.busy": "2022-04-03T16:20:15.016910Z",
     "iopub.status.idle": "2022-04-03T16:20:15.023459Z",
     "shell.execute_reply": "2022-04-03T16:20:15.023936Z",
     "shell.execute_reply.started": "2022-04-03T16:18:54.088769Z"
    },
    "papermill": {
     "duration": 0.059577,
     "end_time": "2022-04-03T16:20:15.024092",
     "exception": false,
     "start_time": "2022-04-03T16:20:14.964515",
     "status": "completed"
    },
    "tags": []
   },
   "outputs": [
    {
     "data": {
      "text/plain": [
       "0                                Braund, Mr. Owen Harris\n",
       "1      Cumings, Mrs. John Bradley (Florence Briggs Th...\n",
       "2                                 Heikkinen, Miss. Laina\n",
       "3           Futrelle, Mrs. Jacques Heath (Lily May Peel)\n",
       "4                               Allen, Mr. William Henry\n",
       "                             ...                        \n",
       "886                                Montvila, Rev. Juozas\n",
       "887                         Graham, Miss. Margaret Edith\n",
       "888             Johnston, Miss. Catherine Helen \"Carrie\"\n",
       "889                                Behr, Mr. Karl Howell\n",
       "890                                  Dooley, Mr. Patrick\n",
       "Name: Name, Length: 891, dtype: object"
      ]
     },
     "execution_count": 27,
     "metadata": {},
     "output_type": "execute_result"
    }
   ],
   "source": [
    "train['Name']"
   ]
  },
  {
   "cell_type": "code",
   "execution_count": 28,
   "id": "destroyed-folks",
   "metadata": {
    "execution": {
     "iopub.execute_input": "2022-04-03T16:20:15.128630Z",
     "iopub.status.busy": "2022-04-03T16:20:15.128088Z",
     "iopub.status.idle": "2022-04-03T16:20:15.139720Z",
     "shell.execute_reply": "2022-04-03T16:20:15.139291Z",
     "shell.execute_reply.started": "2022-04-03T16:18:54.102786Z"
    },
    "papermill": {
     "duration": 0.065299,
     "end_time": "2022-04-03T16:20:15.139840",
     "exception": false,
     "start_time": "2022-04-03T16:20:15.074541",
     "status": "completed"
    },
    "tags": []
   },
   "outputs": [],
   "source": [
    "train['Family_name'] = train['Name'].str.split(', ').str[0]\n",
    "\n",
    "train['Title'] = train['Name'].str.split(', ').str[1].str.split('.').str[0]"
   ]
  },
  {
   "cell_type": "code",
   "execution_count": 29,
   "id": "exclusive-posting",
   "metadata": {
    "execution": {
     "iopub.execute_input": "2022-04-03T16:20:15.245005Z",
     "iopub.status.busy": "2022-04-03T16:20:15.244470Z",
     "iopub.status.idle": "2022-04-03T16:20:15.247321Z",
     "shell.execute_reply": "2022-04-03T16:20:15.247711Z",
     "shell.execute_reply.started": "2022-04-03T16:18:54.120796Z"
    },
    "papermill": {
     "duration": 0.057926,
     "end_time": "2022-04-03T16:20:15.247853",
     "exception": false,
     "start_time": "2022-04-03T16:20:15.189927",
     "status": "completed"
    },
    "tags": []
   },
   "outputs": [
    {
     "data": {
      "text/plain": [
       "array(['Mr', 'Mrs', 'Miss', 'Master', 'Don', 'Rev', 'Dr', 'Mme', 'Ms',\n",
       "       'Major', 'Lady', 'Sir', 'Mlle', 'Col', 'Capt', 'the Countess',\n",
       "       'Jonkheer'], dtype=object)"
      ]
     },
     "execution_count": 29,
     "metadata": {},
     "output_type": "execute_result"
    }
   ],
   "source": [
    "train['Title'].unique()"
   ]
  },
  {
   "cell_type": "code",
   "execution_count": 30,
   "id": "worthy-albania",
   "metadata": {
    "execution": {
     "iopub.execute_input": "2022-04-03T16:20:15.350628Z",
     "iopub.status.busy": "2022-04-03T16:20:15.350097Z",
     "iopub.status.idle": "2022-04-03T16:20:15.357240Z",
     "shell.execute_reply": "2022-04-03T16:20:15.357771Z",
     "shell.execute_reply.started": "2022-04-03T16:18:54.136911Z"
    },
    "papermill": {
     "duration": 0.060097,
     "end_time": "2022-04-03T16:20:15.357914",
     "exception": false,
     "start_time": "2022-04-03T16:20:15.297817",
     "status": "completed"
    },
    "tags": []
   },
   "outputs": [],
   "source": [
    "train['Title'] = train['Title'].replace(['Ms', 'Mlle'], \n",
    "                                            'Miss')\n",
    "train['Title'] = train['Title'].replace(['Mme', 'Dona', 'the Countess', 'Lady'], \n",
    "                                            'Mrs')\n",
    "train['Title'] = train['Title'].replace(['Rev', 'Mlle', 'Jonkheer', 'Dr', 'Capt', 'Don', 'Col', 'Major', 'Sir'],\n",
    "                                            'Mr')"
   ]
  },
  {
   "cell_type": "code",
   "execution_count": 31,
   "id": "fifty-powell",
   "metadata": {
    "execution": {
     "iopub.execute_input": "2022-04-03T16:20:15.460820Z",
     "iopub.status.busy": "2022-04-03T16:20:15.460278Z",
     "iopub.status.idle": "2022-04-03T16:20:15.466157Z",
     "shell.execute_reply": "2022-04-03T16:20:15.466667Z",
     "shell.execute_reply.started": "2022-04-03T16:18:54.150102Z"
    },
    "papermill": {
     "duration": 0.058783,
     "end_time": "2022-04-03T16:20:15.466812",
     "exception": false,
     "start_time": "2022-04-03T16:20:15.408029",
     "status": "completed"
    },
    "tags": []
   },
   "outputs": [],
   "source": [
    "cleanup_nums = { \"Title\": \n",
    "                    {\"Mr\": 0, \"Mrs\": 1, \"Miss\": 2, \"Master\": 3}\n",
    "               }\n",
    "train.replace(cleanup_nums, inplace=True)\n"
   ]
  },
  {
   "cell_type": "markdown",
   "id": "cooperative-burlington",
   "metadata": {
    "papermill": {
     "duration": 0.050418,
     "end_time": "2022-04-03T16:20:15.567638",
     "exception": false,
     "start_time": "2022-04-03T16:20:15.517220",
     "status": "completed"
    },
    "tags": []
   },
   "source": [
    "# Feature Selection"
   ]
  },
  {
   "cell_type": "markdown",
   "id": "another-bruce",
   "metadata": {
    "papermill": {
     "duration": 0.050175,
     "end_time": "2022-04-03T16:20:15.668270",
     "exception": false,
     "start_time": "2022-04-03T16:20:15.618095",
     "status": "completed"
    },
    "tags": []
   },
   "source": [
    "# Pearson's correlation"
   ]
  },
  {
   "cell_type": "code",
   "execution_count": 32,
   "id": "sharing-alexander",
   "metadata": {
    "execution": {
     "iopub.execute_input": "2022-04-03T16:20:15.771459Z",
     "iopub.status.busy": "2022-04-03T16:20:15.770921Z",
     "iopub.status.idle": "2022-04-03T16:20:15.789931Z",
     "shell.execute_reply": "2022-04-03T16:20:15.790434Z",
     "shell.execute_reply.started": "2022-04-03T16:18:54.166344Z"
    },
    "papermill": {
     "duration": 0.071882,
     "end_time": "2022-04-03T16:20:15.790579",
     "exception": false,
     "start_time": "2022-04-03T16:20:15.718697",
     "status": "completed"
    },
    "tags": []
   },
   "outputs": [
    {
     "data": {
      "text/html": [
       "<div>\n",
       "<style scoped>\n",
       "    .dataframe tbody tr th:only-of-type {\n",
       "        vertical-align: middle;\n",
       "    }\n",
       "\n",
       "    .dataframe tbody tr th {\n",
       "        vertical-align: top;\n",
       "    }\n",
       "\n",
       "    .dataframe thead th {\n",
       "        text-align: right;\n",
       "    }\n",
       "</style>\n",
       "<table border=\"1\" class=\"dataframe\">\n",
       "  <thead>\n",
       "    <tr style=\"text-align: right;\">\n",
       "      <th></th>\n",
       "      <th>Survived</th>\n",
       "      <th>Pclass</th>\n",
       "      <th>Sex</th>\n",
       "      <th>Age</th>\n",
       "      <th>SibSp</th>\n",
       "      <th>Parch</th>\n",
       "      <th>Fare</th>\n",
       "      <th>Embarked</th>\n",
       "      <th>AgeCategory</th>\n",
       "      <th>FamilySize</th>\n",
       "      <th>Title</th>\n",
       "    </tr>\n",
       "  </thead>\n",
       "  <tbody>\n",
       "    <tr>\n",
       "      <th>Survived</th>\n",
       "      <td>1.000000</td>\n",
       "      <td>-0.338481</td>\n",
       "      <td>0.543351</td>\n",
       "      <td>-0.069809</td>\n",
       "      <td>-0.035322</td>\n",
       "      <td>0.081629</td>\n",
       "      <td>0.331805</td>\n",
       "      <td>0.108669</td>\n",
       "      <td>-0.071179</td>\n",
       "      <td>0.016639</td>\n",
       "      <td>0.472168</td>\n",
       "    </tr>\n",
       "    <tr>\n",
       "      <th>Pclass</th>\n",
       "      <td>-0.338481</td>\n",
       "      <td>1.000000</td>\n",
       "      <td>-0.131900</td>\n",
       "      <td>-0.331339</td>\n",
       "      <td>0.083081</td>\n",
       "      <td>0.018443</td>\n",
       "      <td>-0.670489</td>\n",
       "      <td>0.043835</td>\n",
       "      <td>-0.298635</td>\n",
       "      <td>0.065997</td>\n",
       "      <td>-0.015231</td>\n",
       "    </tr>\n",
       "    <tr>\n",
       "      <th>Sex</th>\n",
       "      <td>0.543351</td>\n",
       "      <td>-0.131900</td>\n",
       "      <td>1.000000</td>\n",
       "      <td>-0.084153</td>\n",
       "      <td>0.114631</td>\n",
       "      <td>0.245489</td>\n",
       "      <td>0.264751</td>\n",
       "      <td>0.118593</td>\n",
       "      <td>-0.086463</td>\n",
       "      <td>0.200988</td>\n",
       "      <td>0.695022</td>\n",
       "    </tr>\n",
       "    <tr>\n",
       "      <th>Age</th>\n",
       "      <td>-0.069809</td>\n",
       "      <td>-0.331339</td>\n",
       "      <td>-0.084153</td>\n",
       "      <td>1.000000</td>\n",
       "      <td>-0.232625</td>\n",
       "      <td>-0.179191</td>\n",
       "      <td>0.103721</td>\n",
       "      <td>0.009499</td>\n",
       "      <td>0.961697</td>\n",
       "      <td>-0.248512</td>\n",
       "      <td>-0.398337</td>\n",
       "    </tr>\n",
       "    <tr>\n",
       "      <th>SibSp</th>\n",
       "      <td>-0.035322</td>\n",
       "      <td>0.083081</td>\n",
       "      <td>0.114631</td>\n",
       "      <td>-0.232625</td>\n",
       "      <td>1.000000</td>\n",
       "      <td>0.414838</td>\n",
       "      <td>0.323214</td>\n",
       "      <td>-0.060606</td>\n",
       "      <td>-0.221954</td>\n",
       "      <td>0.890712</td>\n",
       "      <td>0.323379</td>\n",
       "    </tr>\n",
       "    <tr>\n",
       "      <th>Parch</th>\n",
       "      <td>0.081629</td>\n",
       "      <td>0.018443</td>\n",
       "      <td>0.245489</td>\n",
       "      <td>-0.179191</td>\n",
       "      <td>0.414838</td>\n",
       "      <td>1.000000</td>\n",
       "      <td>0.336857</td>\n",
       "      <td>-0.079320</td>\n",
       "      <td>-0.189401</td>\n",
       "      <td>0.783111</td>\n",
       "      <td>0.342967</td>\n",
       "    </tr>\n",
       "    <tr>\n",
       "      <th>Fare</th>\n",
       "      <td>0.331805</td>\n",
       "      <td>-0.670489</td>\n",
       "      <td>0.264751</td>\n",
       "      <td>0.103721</td>\n",
       "      <td>0.323214</td>\n",
       "      <td>0.336857</td>\n",
       "      <td>1.000000</td>\n",
       "      <td>0.017080</td>\n",
       "      <td>0.084824</td>\n",
       "      <td>0.389193</td>\n",
       "      <td>0.245450</td>\n",
       "    </tr>\n",
       "    <tr>\n",
       "      <th>Embarked</th>\n",
       "      <td>0.108669</td>\n",
       "      <td>0.043835</td>\n",
       "      <td>0.118593</td>\n",
       "      <td>0.009499</td>\n",
       "      <td>-0.060606</td>\n",
       "      <td>-0.079320</td>\n",
       "      <td>0.017080</td>\n",
       "      <td>1.000000</td>\n",
       "      <td>0.047779</td>\n",
       "      <td>-0.081057</td>\n",
       "      <td>0.125604</td>\n",
       "    </tr>\n",
       "    <tr>\n",
       "      <th>AgeCategory</th>\n",
       "      <td>-0.071179</td>\n",
       "      <td>-0.298635</td>\n",
       "      <td>-0.086463</td>\n",
       "      <td>0.961697</td>\n",
       "      <td>-0.221954</td>\n",
       "      <td>-0.189401</td>\n",
       "      <td>0.084824</td>\n",
       "      <td>0.047779</td>\n",
       "      <td>1.000000</td>\n",
       "      <td>-0.246319</td>\n",
       "      <td>-0.383264</td>\n",
       "    </tr>\n",
       "    <tr>\n",
       "      <th>FamilySize</th>\n",
       "      <td>0.016639</td>\n",
       "      <td>0.065997</td>\n",
       "      <td>0.200988</td>\n",
       "      <td>-0.248512</td>\n",
       "      <td>0.890712</td>\n",
       "      <td>0.783111</td>\n",
       "      <td>0.389193</td>\n",
       "      <td>-0.081057</td>\n",
       "      <td>-0.246319</td>\n",
       "      <td>1.000000</td>\n",
       "      <td>0.392359</td>\n",
       "    </tr>\n",
       "    <tr>\n",
       "      <th>Title</th>\n",
       "      <td>0.472168</td>\n",
       "      <td>-0.015231</td>\n",
       "      <td>0.695022</td>\n",
       "      <td>-0.398337</td>\n",
       "      <td>0.323379</td>\n",
       "      <td>0.342967</td>\n",
       "      <td>0.245450</td>\n",
       "      <td>0.125604</td>\n",
       "      <td>-0.383264</td>\n",
       "      <td>0.392359</td>\n",
       "      <td>1.000000</td>\n",
       "    </tr>\n",
       "  </tbody>\n",
       "</table>\n",
       "</div>"
      ],
      "text/plain": [
       "             Survived    Pclass       Sex       Age     SibSp     Parch  \\\n",
       "Survived     1.000000 -0.338481  0.543351 -0.069809 -0.035322  0.081629   \n",
       "Pclass      -0.338481  1.000000 -0.131900 -0.331339  0.083081  0.018443   \n",
       "Sex          0.543351 -0.131900  1.000000 -0.084153  0.114631  0.245489   \n",
       "Age         -0.069809 -0.331339 -0.084153  1.000000 -0.232625 -0.179191   \n",
       "SibSp       -0.035322  0.083081  0.114631 -0.232625  1.000000  0.414838   \n",
       "Parch        0.081629  0.018443  0.245489 -0.179191  0.414838  1.000000   \n",
       "Fare         0.331805 -0.670489  0.264751  0.103721  0.323214  0.336857   \n",
       "Embarked     0.108669  0.043835  0.118593  0.009499 -0.060606 -0.079320   \n",
       "AgeCategory -0.071179 -0.298635 -0.086463  0.961697 -0.221954 -0.189401   \n",
       "FamilySize   0.016639  0.065997  0.200988 -0.248512  0.890712  0.783111   \n",
       "Title        0.472168 -0.015231  0.695022 -0.398337  0.323379  0.342967   \n",
       "\n",
       "                 Fare  Embarked  AgeCategory  FamilySize     Title  \n",
       "Survived     0.331805  0.108669    -0.071179    0.016639  0.472168  \n",
       "Pclass      -0.670489  0.043835    -0.298635    0.065997 -0.015231  \n",
       "Sex          0.264751  0.118593    -0.086463    0.200988  0.695022  \n",
       "Age          0.103721  0.009499     0.961697   -0.248512 -0.398337  \n",
       "SibSp        0.323214 -0.060606    -0.221954    0.890712  0.323379  \n",
       "Parch        0.336857 -0.079320    -0.189401    0.783111  0.342967  \n",
       "Fare         1.000000  0.017080     0.084824    0.389193  0.245450  \n",
       "Embarked     0.017080  1.000000     0.047779   -0.081057  0.125604  \n",
       "AgeCategory  0.084824  0.047779     1.000000   -0.246319 -0.383264  \n",
       "FamilySize   0.389193 -0.081057    -0.246319    1.000000  0.392359  \n",
       "Title        0.245450  0.125604    -0.383264    0.392359  1.000000  "
      ]
     },
     "execution_count": 32,
     "metadata": {},
     "output_type": "execute_result"
    }
   ],
   "source": [
    "train.corr()\n",
    "# here is a table that shows the correlation between each feature with the rest of the features."
   ]
  },
  {
   "cell_type": "code",
   "execution_count": 33,
   "id": "scenic-resistance",
   "metadata": {
    "execution": {
     "iopub.execute_input": "2022-04-03T16:20:15.894944Z",
     "iopub.status.busy": "2022-04-03T16:20:15.894400Z",
     "iopub.status.idle": "2022-04-03T16:20:16.682358Z",
     "shell.execute_reply": "2022-04-03T16:20:16.682803Z",
     "shell.execute_reply.started": "2022-04-03T16:18:54.189822Z"
    },
    "papermill": {
     "duration": 0.841553,
     "end_time": "2022-04-03T16:20:16.682971",
     "exception": false,
     "start_time": "2022-04-03T16:20:15.841418",
     "status": "completed"
    },
    "tags": []
   },
   "outputs": [
    {
     "data": {
      "text/plain": [
       "<AxesSubplot:>"
      ]
     },
     "execution_count": 33,
     "metadata": {},
     "output_type": "execute_result"
    },
    {
     "data": {
      "image/png": "[encoded data removed]",
      "text/plain": [
       "<Figure size 1440x576 with 2 Axes>"
      ]
     },
     "metadata": {
      "needs_background": "light"
     },
     "output_type": "display_data"
    }
   ],
   "source": [
    "corr = train.corr()\n",
    "f, ax = plt.subplots(figsize=(20, 8))\n",
    "cmap = sns.diverging_palette(220, 10, as_cmap=True)\n",
    "sns.heatmap(corr, linewidths=.5, annot= True)"
   ]
  },
  {
   "cell_type": "code",
   "execution_count": 34,
   "id": "incredible-feedback",
   "metadata": {
    "execution": {
     "iopub.execute_input": "2022-04-03T16:20:16.796803Z",
     "iopub.status.busy": "2022-04-03T16:20:16.795925Z",
     "iopub.status.idle": "2022-04-03T16:20:16.803482Z",
     "shell.execute_reply": "2022-04-03T16:20:16.804031Z",
     "shell.execute_reply.started": "2022-04-03T16:18:54.957327Z"
    },
    "papermill": {
     "duration": 0.067085,
     "end_time": "2022-04-03T16:20:16.804184",
     "exception": false,
     "start_time": "2022-04-03T16:20:16.737099",
     "status": "completed"
    },
    "tags": []
   },
   "outputs": [
    {
     "data": {
      "text/plain": [
       "Survived       1.000000\n",
       "Pclass        -0.338481\n",
       "Sex            0.543351\n",
       "Age           -0.069809\n",
       "SibSp         -0.035322\n",
       "Parch          0.081629\n",
       "Fare           0.331805\n",
       "Embarked       0.108669\n",
       "AgeCategory   -0.071179\n",
       "FamilySize     0.016639\n",
       "Title          0.472168\n",
       "Name: Survived, dtype: float64"
      ]
     },
     "execution_count": 34,
     "metadata": {},
     "output_type": "execute_result"
    }
   ],
   "source": [
    "train.corr()['Survived'] \n",
    "# we will hone on the correlation values between the target feature since that's what we are investigating. "
   ]
  },
  {
   "cell_type": "code",
   "execution_count": 35,
   "id": "sharing-weight",
   "metadata": {
    "execution": {
     "iopub.execute_input": "2022-04-03T16:20:16.918043Z",
     "iopub.status.busy": "2022-04-03T16:20:16.917147Z",
     "iopub.status.idle": "2022-04-03T16:20:16.928882Z",
     "shell.execute_reply": "2022-04-03T16:20:16.928387Z",
     "shell.execute_reply.started": "2022-04-03T16:18:54.969591Z"
    },
    "papermill": {
     "duration": 0.070241,
     "end_time": "2022-04-03T16:20:16.929007",
     "exception": false,
     "start_time": "2022-04-03T16:20:16.858766",
     "status": "completed"
    },
    "tags": []
   },
   "outputs": [
    {
     "name": "stdout",
     "output_type": "stream",
     "text": [
      "The number of features removed out of 11 is 7 , leaving 4 selected features.\n"
     ]
    },
    {
     "data": {
      "text/plain": [
       "['Pclass', 'Sex', 'Fare', 'Title']"
      ]
     },
     "execution_count": 35,
     "metadata": {},
     "output_type": "execute_result"
    }
   ],
   "source": [
    "all_corr = train.corr()['Survived'].abs() >= .2\n",
    "highly_correlated = all_corr[all_corr==True].index\n",
    "# Only the features that have a correlation value of 0.2 or above with the target will be selected. \n",
    "highly_correlated = highly_correlated.tolist() \n",
    "highly_correlated.remove('Survived')\n",
    "print('The number of features removed out of', all_corr.size, 'is', all_corr.size- len(highly_correlated),', leaving',len(highly_correlated),'selected features.')\n",
    "highly_correlated"
   ]
  },
  {
   "cell_type": "code",
   "execution_count": 36,
   "id": "intended-montgomery",
   "metadata": {
    "execution": {
     "iopub.execute_input": "2022-04-03T16:20:17.040986Z",
     "iopub.status.busy": "2022-04-03T16:20:17.040108Z",
     "iopub.status.idle": "2022-04-03T16:20:21.060414Z",
     "shell.execute_reply": "2022-04-03T16:20:21.060870Z",
     "shell.execute_reply.started": "2022-04-03T16:18:54.985445Z"
    },
    "papermill": {
     "duration": 4.077531,
     "end_time": "2022-04-03T16:20:21.061039",
     "exception": false,
     "start_time": "2022-04-03T16:20:16.983508",
     "status": "completed"
    },
    "tags": []
   },
   "outputs": [
    {
     "data": {
      "image/png": "[encoded data removed]",
      "text/plain": [
       "<Figure size 771.875x720 with 20 Axes>"
      ]
     },
     "metadata": {
      "needs_background": "light"
     },
     "output_type": "display_data"
    }
   ],
   "source": [
    "sns.pairplot(data=train[['Pclass', 'Sex', 'Fare', 'Title', 'Survived']],\n",
    "             hue=\"Survived\", dropna=True);"
   ]
  },
  {
   "cell_type": "markdown",
   "id": "organic-president",
   "metadata": {
    "papermill": {
     "duration": 0.057922,
     "end_time": "2022-04-03T16:20:21.177356",
     "exception": false,
     "start_time": "2022-04-03T16:20:21.119434",
     "status": "completed"
    },
    "tags": []
   },
   "source": [
    "# Hypothesis testing"
   ]
  },
  {
   "cell_type": "markdown",
   "id": "tribal-seattle",
   "metadata": {
    "papermill": {
     "duration": 0.057404,
     "end_time": "2022-04-03T16:20:21.292697",
     "exception": false,
     "start_time": "2022-04-03T16:20:21.235293",
     "status": "completed"
    },
    "tags": []
   },
   "source": [
    "We still have columns that are not of numerical type so we need to change them before scaling/ running it on a model."
   ]
  },
  {
   "cell_type": "code",
   "execution_count": 37,
   "id": "nutritional-consultancy",
   "metadata": {
    "execution": {
     "iopub.execute_input": "2022-04-03T16:20:21.448753Z",
     "iopub.status.busy": "2022-04-03T16:20:21.447885Z",
     "iopub.status.idle": "2022-04-03T16:20:21.468427Z",
     "shell.execute_reply": "2022-04-03T16:20:21.469106Z",
     "shell.execute_reply.started": "2022-04-03T16:18:59.362493Z"
    },
    "papermill": {
     "duration": 0.111721,
     "end_time": "2022-04-03T16:20:21.469314",
     "exception": false,
     "start_time": "2022-04-03T16:20:21.357593",
     "status": "completed"
    },
    "tags": []
   },
   "outputs": [
    {
     "name": "stdout",
     "output_type": "stream",
     "text": [
      "Index(['Name', 'Ticket', 'Family_name'], dtype='object')\n"
     ]
    },
    {
     "data": {
      "text/html": [
       "<div>\n",
       "<style scoped>\n",
       "    .dataframe tbody tr th:only-of-type {\n",
       "        vertical-align: middle;\n",
       "    }\n",
       "\n",
       "    .dataframe tbody tr th {\n",
       "        vertical-align: top;\n",
       "    }\n",
       "\n",
       "    .dataframe thead th {\n",
       "        text-align: right;\n",
       "    }\n",
       "</style>\n",
       "<table border=\"1\" class=\"dataframe\">\n",
       "  <thead>\n",
       "    <tr style=\"text-align: right;\">\n",
       "      <th></th>\n",
       "      <th>Survived</th>\n",
       "      <th>Pclass</th>\n",
       "      <th>Name</th>\n",
       "      <th>Sex</th>\n",
       "      <th>Age</th>\n",
       "      <th>SibSp</th>\n",
       "      <th>Parch</th>\n",
       "      <th>Ticket</th>\n",
       "      <th>Fare</th>\n",
       "      <th>Embarked</th>\n",
       "      <th>AgeCategory</th>\n",
       "      <th>FamilySize</th>\n",
       "      <th>Family_name</th>\n",
       "      <th>Title</th>\n",
       "    </tr>\n",
       "  </thead>\n",
       "  <tbody>\n",
       "    <tr>\n",
       "      <th>0</th>\n",
       "      <td>0</td>\n",
       "      <td>3</td>\n",
       "      <td>Braund, Mr. Owen Harris</td>\n",
       "      <td>0</td>\n",
       "      <td>22.0</td>\n",
       "      <td>1</td>\n",
       "      <td>0</td>\n",
       "      <td>A/5 21171</td>\n",
       "      <td>1.981001</td>\n",
       "      <td>0.0</td>\n",
       "      <td>1</td>\n",
       "      <td>2</td>\n",
       "      <td>Braund</td>\n",
       "      <td>0</td>\n",
       "    </tr>\n",
       "    <tr>\n",
       "      <th>1</th>\n",
       "      <td>1</td>\n",
       "      <td>1</td>\n",
       "      <td>Cumings, Mrs. John Bradley (Florence Briggs Th...</td>\n",
       "      <td>1</td>\n",
       "      <td>38.0</td>\n",
       "      <td>1</td>\n",
       "      <td>0</td>\n",
       "      <td>PC 17599</td>\n",
       "      <td>4.266662</td>\n",
       "      <td>1.0</td>\n",
       "      <td>2</td>\n",
       "      <td>2</td>\n",
       "      <td>Cumings</td>\n",
       "      <td>1</td>\n",
       "    </tr>\n",
       "    <tr>\n",
       "      <th>2</th>\n",
       "      <td>1</td>\n",
       "      <td>3</td>\n",
       "      <td>Heikkinen, Miss. Laina</td>\n",
       "      <td>1</td>\n",
       "      <td>26.0</td>\n",
       "      <td>0</td>\n",
       "      <td>0</td>\n",
       "      <td>STON/O2. 3101282</td>\n",
       "      <td>2.070022</td>\n",
       "      <td>0.0</td>\n",
       "      <td>1</td>\n",
       "      <td>1</td>\n",
       "      <td>Heikkinen</td>\n",
       "      <td>2</td>\n",
       "    </tr>\n",
       "    <tr>\n",
       "      <th>3</th>\n",
       "      <td>1</td>\n",
       "      <td>1</td>\n",
       "      <td>Futrelle, Mrs. Jacques Heath (Lily May Peel)</td>\n",
       "      <td>1</td>\n",
       "      <td>35.0</td>\n",
       "      <td>1</td>\n",
       "      <td>0</td>\n",
       "      <td>113803</td>\n",
       "      <td>3.972177</td>\n",
       "      <td>0.0</td>\n",
       "      <td>2</td>\n",
       "      <td>2</td>\n",
       "      <td>Futrelle</td>\n",
       "      <td>1</td>\n",
       "    </tr>\n",
       "    <tr>\n",
       "      <th>4</th>\n",
       "      <td>0</td>\n",
       "      <td>3</td>\n",
       "      <td>Allen, Mr. William Henry</td>\n",
       "      <td>0</td>\n",
       "      <td>35.0</td>\n",
       "      <td>0</td>\n",
       "      <td>0</td>\n",
       "      <td>373450</td>\n",
       "      <td>2.085672</td>\n",
       "      <td>0.0</td>\n",
       "      <td>2</td>\n",
       "      <td>1</td>\n",
       "      <td>Allen</td>\n",
       "      <td>0</td>\n",
       "    </tr>\n",
       "  </tbody>\n",
       "</table>\n",
       "</div>"
      ],
      "text/plain": [
       "   Survived  Pclass                                               Name  Sex  \\\n",
       "0         0       3                            Braund, Mr. Owen Harris    0   \n",
       "1         1       1  Cumings, Mrs. John Bradley (Florence Briggs Th...    1   \n",
       "2         1       3                             Heikkinen, Miss. Laina    1   \n",
       "3         1       1       Futrelle, Mrs. Jacques Heath (Lily May Peel)    1   \n",
       "4         0       3                           Allen, Mr. William Henry    0   \n",
       "\n",
       "    Age  SibSp  Parch            Ticket      Fare  Embarked  AgeCategory  \\\n",
       "0  22.0      1      0         A/5 21171  1.981001       0.0            1   \n",
       "1  38.0      1      0          PC 17599  4.266662       1.0            2   \n",
       "2  26.0      0      0  STON/O2. 3101282  2.070022       0.0            1   \n",
       "3  35.0      1      0            113803  3.972177       0.0            2   \n",
       "4  35.0      0      0            373450  2.085672       0.0            2   \n",
       "\n",
       "   FamilySize Family_name  Title  \n",
       "0           2      Braund      0  \n",
       "1           2     Cumings      1  \n",
       "2           1   Heikkinen      2  \n",
       "3           2    Futrelle      1  \n",
       "4           1       Allen      0  "
      ]
     },
     "execution_count": 37,
     "metadata": {},
     "output_type": "execute_result"
    }
   ],
   "source": [
    "print(train.columns[train.dtypes == \"object\"])\n",
    "train.head()"
   ]
  },
  {
   "cell_type": "code",
   "execution_count": 38,
   "id": "composed-korea",
   "metadata": {
    "execution": {
     "iopub.execute_input": "2022-04-03T16:20:21.630603Z",
     "iopub.status.busy": "2022-04-03T16:20:21.630021Z",
     "iopub.status.idle": "2022-04-03T16:20:21.659369Z",
     "shell.execute_reply": "2022-04-03T16:20:21.659857Z",
     "shell.execute_reply.started": "2022-04-03T16:18:59.384961Z"
    },
    "papermill": {
     "duration": 0.092388,
     "end_time": "2022-04-03T16:20:21.660027",
     "exception": false,
     "start_time": "2022-04-03T16:20:21.567639",
     "status": "completed"
    },
    "tags": []
   },
   "outputs": [],
   "source": [
    "#label encoder can also be used to transform non-numerical labels (as long as they are hashable and comparable) to numerical labels.\n",
    "label_encoder = LabelEncoder()\n",
    "for col in train.columns[train.dtypes == \"object\"]:\n",
    "    train[col] = label_encoder.fit_transform(train[col].astype('str'))\n",
    "\n",
    "for col in test.columns[test.dtypes == \"object\"]:\n",
    "    test[col] = label_encoder.fit_transform(test[col].astype('str'))\n",
    "\n",
    "# drop rows with null values    \n",
    "train.dropna(inplace=True)"
   ]
  },
  {
   "cell_type": "code",
   "execution_count": 39,
   "id": "objective-joining",
   "metadata": {
    "execution": {
     "iopub.execute_input": "2022-04-03T16:20:21.789673Z",
     "iopub.status.busy": "2022-04-03T16:20:21.788732Z",
     "iopub.status.idle": "2022-04-03T16:20:21.800353Z",
     "shell.execute_reply": "2022-04-03T16:20:21.801187Z",
     "shell.execute_reply.started": "2022-04-03T16:18:59.412111Z"
    },
    "papermill": {
     "duration": 0.077027,
     "end_time": "2022-04-03T16:20:21.801409",
     "exception": false,
     "start_time": "2022-04-03T16:20:21.724382",
     "status": "completed"
    },
    "tags": []
   },
   "outputs": [
    {
     "data": {
      "text/html": [
       "<div>\n",
       "<style scoped>\n",
       "    .dataframe tbody tr th:only-of-type {\n",
       "        vertical-align: middle;\n",
       "    }\n",
       "\n",
       "    .dataframe tbody tr th {\n",
       "        vertical-align: top;\n",
       "    }\n",
       "\n",
       "    .dataframe thead th {\n",
       "        text-align: right;\n",
       "    }\n",
       "</style>\n",
       "<table border=\"1\" class=\"dataframe\">\n",
       "  <thead>\n",
       "    <tr style=\"text-align: right;\">\n",
       "      <th></th>\n",
       "      <th>Survived</th>\n",
       "      <th>Pclass</th>\n",
       "      <th>Name</th>\n",
       "      <th>Sex</th>\n",
       "      <th>Age</th>\n",
       "      <th>SibSp</th>\n",
       "      <th>Parch</th>\n",
       "      <th>Ticket</th>\n",
       "      <th>Fare</th>\n",
       "      <th>Embarked</th>\n",
       "      <th>AgeCategory</th>\n",
       "      <th>FamilySize</th>\n",
       "      <th>Family_name</th>\n",
       "      <th>Title</th>\n",
       "    </tr>\n",
       "  </thead>\n",
       "  <tbody>\n",
       "    <tr>\n",
       "      <th>0</th>\n",
       "      <td>0</td>\n",
       "      <td>3</td>\n",
       "      <td>108</td>\n",
       "      <td>0</td>\n",
       "      <td>22.0</td>\n",
       "      <td>1</td>\n",
       "      <td>0</td>\n",
       "      <td>523</td>\n",
       "      <td>1.981001</td>\n",
       "      <td>0.0</td>\n",
       "      <td>1</td>\n",
       "      <td>2</td>\n",
       "      <td>73</td>\n",
       "      <td>0</td>\n",
       "    </tr>\n",
       "    <tr>\n",
       "      <th>1</th>\n",
       "      <td>1</td>\n",
       "      <td>1</td>\n",
       "      <td>190</td>\n",
       "      <td>1</td>\n",
       "      <td>38.0</td>\n",
       "      <td>1</td>\n",
       "      <td>0</td>\n",
       "      <td>596</td>\n",
       "      <td>4.266662</td>\n",
       "      <td>1.0</td>\n",
       "      <td>2</td>\n",
       "      <td>2</td>\n",
       "      <td>136</td>\n",
       "      <td>1</td>\n",
       "    </tr>\n",
       "    <tr>\n",
       "      <th>2</th>\n",
       "      <td>1</td>\n",
       "      <td>3</td>\n",
       "      <td>353</td>\n",
       "      <td>1</td>\n",
       "      <td>26.0</td>\n",
       "      <td>0</td>\n",
       "      <td>0</td>\n",
       "      <td>669</td>\n",
       "      <td>2.070022</td>\n",
       "      <td>0.0</td>\n",
       "      <td>1</td>\n",
       "      <td>1</td>\n",
       "      <td>251</td>\n",
       "      <td>2</td>\n",
       "    </tr>\n",
       "    <tr>\n",
       "      <th>3</th>\n",
       "      <td>1</td>\n",
       "      <td>1</td>\n",
       "      <td>272</td>\n",
       "      <td>1</td>\n",
       "      <td>35.0</td>\n",
       "      <td>1</td>\n",
       "      <td>0</td>\n",
       "      <td>49</td>\n",
       "      <td>3.972177</td>\n",
       "      <td>0.0</td>\n",
       "      <td>2</td>\n",
       "      <td>2</td>\n",
       "      <td>198</td>\n",
       "      <td>1</td>\n",
       "    </tr>\n",
       "    <tr>\n",
       "      <th>4</th>\n",
       "      <td>0</td>\n",
       "      <td>3</td>\n",
       "      <td>15</td>\n",
       "      <td>0</td>\n",
       "      <td>35.0</td>\n",
       "      <td>0</td>\n",
       "      <td>0</td>\n",
       "      <td>472</td>\n",
       "      <td>2.085672</td>\n",
       "      <td>0.0</td>\n",
       "      <td>2</td>\n",
       "      <td>1</td>\n",
       "      <td>11</td>\n",
       "      <td>0</td>\n",
       "    </tr>\n",
       "  </tbody>\n",
       "</table>\n",
       "</div>"
      ],
      "text/plain": [
       "   Survived  Pclass  Name  Sex   Age  SibSp  Parch  Ticket      Fare  \\\n",
       "0         0       3   108    0  22.0      1      0     523  1.981001   \n",
       "1         1       1   190    1  38.0      1      0     596  4.266662   \n",
       "2         1       3   353    1  26.0      0      0     669  2.070022   \n",
       "3         1       1   272    1  35.0      1      0      49  3.972177   \n",
       "4         0       3    15    0  35.0      0      0     472  2.085672   \n",
       "\n",
       "   Embarked  AgeCategory  FamilySize  Family_name  Title  \n",
       "0       0.0            1           2           73      0  \n",
       "1       1.0            2           2          136      1  \n",
       "2       0.0            1           1          251      2  \n",
       "3       0.0            2           2          198      1  \n",
       "4       0.0            2           1           11      0  "
      ]
     },
     "execution_count": 39,
     "metadata": {},
     "output_type": "execute_result"
    }
   ],
   "source": [
    "train.head()"
   ]
  },
  {
   "cell_type": "code",
   "execution_count": 40,
   "id": "simple-discharge",
   "metadata": {
    "execution": {
     "iopub.execute_input": "2022-04-03T16:20:21.927812Z",
     "iopub.status.busy": "2022-04-03T16:20:21.927224Z",
     "iopub.status.idle": "2022-04-03T16:20:21.931321Z",
     "shell.execute_reply": "2022-04-03T16:20:21.931878Z",
     "shell.execute_reply.started": "2022-04-03T16:18:59.436452Z"
    },
    "papermill": {
     "duration": 0.066194,
     "end_time": "2022-04-03T16:20:21.932030",
     "exception": false,
     "start_time": "2022-04-03T16:20:21.865836",
     "status": "completed"
    },
    "tags": []
   },
   "outputs": [],
   "source": [
    "# keep only the best 4 features according to p-values of ANOVA test\n",
    "k_best = SelectKBest(f_classif, k=4)"
   ]
  },
  {
   "cell_type": "code",
   "execution_count": 41,
   "id": "peaceful-invasion",
   "metadata": {
    "execution": {
     "iopub.execute_input": "2022-04-03T16:20:22.057519Z",
     "iopub.status.busy": "2022-04-03T16:20:22.056654Z",
     "iopub.status.idle": "2022-04-03T16:20:22.066042Z",
     "shell.execute_reply": "2022-04-03T16:20:22.066768Z",
     "shell.execute_reply.started": "2022-04-03T16:18:59.442736Z"
    },
    "papermill": {
     "duration": 0.075296,
     "end_time": "2022-04-03T16:20:22.066988",
     "exception": false,
     "start_time": "2022-04-03T16:20:21.991692",
     "status": "completed"
    },
    "tags": []
   },
   "outputs": [
    {
     "data": {
      "text/plain": [
       "array([[3.        , 0.        , 1.98100147, 0.        ],\n",
       "       [1.        , 1.        , 4.26666208, 1.        ],\n",
       "       [3.        , 1.        , 2.07002232, 2.        ],\n",
       "       ...,\n",
       "       [3.        , 1.        , 3.15487049, 2.        ],\n",
       "       [1.        , 0.        , 3.40119738, 0.        ],\n",
       "       [3.        , 0.        , 2.04769284, 0.        ]])"
      ]
     },
     "execution_count": 41,
     "metadata": {},
     "output_type": "execute_result"
    }
   ],
   "source": [
    "X = train.drop('Survived', axis='columns')\n",
    "y = train['Survived']\n",
    "# fit the data and then tranform it.\n",
    "k_best.fit_transform(X, y)"
   ]
  },
  {
   "cell_type": "code",
   "execution_count": 42,
   "id": "primary-canada",
   "metadata": {
    "execution": {
     "iopub.execute_input": "2022-04-03T16:20:22.195544Z",
     "iopub.status.busy": "2022-04-03T16:20:22.195006Z",
     "iopub.status.idle": "2022-04-03T16:20:22.204853Z",
     "shell.execute_reply": "2022-04-03T16:20:22.205311Z",
     "shell.execute_reply.started": "2022-04-03T16:18:59.462588Z"
    },
    "papermill": {
     "duration": 0.0749,
     "end_time": "2022-04-03T16:20:22.205463",
     "exception": false,
     "start_time": "2022-04-03T16:20:22.130563",
     "status": "completed"
    },
    "tags": []
   },
   "outputs": [
    {
     "data": {
      "text/html": [
       "<div>\n",
       "<style scoped>\n",
       "    .dataframe tbody tr th:only-of-type {\n",
       "        vertical-align: middle;\n",
       "    }\n",
       "\n",
       "    .dataframe tbody tr th {\n",
       "        vertical-align: top;\n",
       "    }\n",
       "\n",
       "    .dataframe thead th {\n",
       "        text-align: right;\n",
       "    }\n",
       "</style>\n",
       "<table border=\"1\" class=\"dataframe\">\n",
       "  <thead>\n",
       "    <tr style=\"text-align: right;\">\n",
       "      <th></th>\n",
       "      <th>column</th>\n",
       "      <th>p_value</th>\n",
       "    </tr>\n",
       "  </thead>\n",
       "  <tbody>\n",
       "    <tr>\n",
       "      <th>2</th>\n",
       "      <td>Sex</td>\n",
       "      <td>6.682012e-69</td>\n",
       "    </tr>\n",
       "    <tr>\n",
       "      <th>12</th>\n",
       "      <td>Title</td>\n",
       "      <td>2.587975e-50</td>\n",
       "    </tr>\n",
       "    <tr>\n",
       "      <th>0</th>\n",
       "      <td>Pclass</td>\n",
       "      <td>7.776916e-25</td>\n",
       "    </tr>\n",
       "    <tr>\n",
       "      <th>7</th>\n",
       "      <td>Fare</td>\n",
       "      <td>6.981649e-24</td>\n",
       "    </tr>\n",
       "  </tbody>\n",
       "</table>\n",
       "</div>"
      ],
      "text/plain": [
       "    column       p_value\n",
       "2      Sex  6.682012e-69\n",
       "12   Title  2.587975e-50\n",
       "0   Pclass  7.776916e-25\n",
       "7     Fare  6.981649e-24"
      ]
     },
     "execution_count": 42,
     "metadata": {},
     "output_type": "execute_result"
    }
   ],
   "source": [
    "# get the p values of columns\n",
    "k_best.pvalues_\n",
    "# make a dataframe of features and p-values\n",
    "# sort that dataframe by p-value\n",
    "p_values = pd.DataFrame({'column': X.columns, 'p_value': k_best.pvalues_}).sort_values('p_value')\n",
    "# show the top 4 features\n",
    "p_values.head(4)"
   ]
  },
  {
   "cell_type": "markdown",
   "id": "complicated-surgery",
   "metadata": {
    "papermill": {
     "duration": 0.059537,
     "end_time": "2022-04-03T16:20:22.325326",
     "exception": false,
     "start_time": "2022-04-03T16:20:22.265789",
     "status": "completed"
    },
    "tags": []
   },
   "source": [
    "# Possible questions: \n",
    "- Is there a significant difference in the survival rate among people of different Pclasses? \n",
    "- Is there a significant difference in the survival rate between males and females? "
   ]
  },
  {
   "cell_type": "markdown",
   "id": "ecological-carpet",
   "metadata": {
    "papermill": {
     "duration": 0.059472,
     "end_time": "2022-04-03T16:20:22.444824",
     "exception": false,
     "start_time": "2022-04-03T16:20:22.385352",
     "status": "completed"
    },
    "tags": []
   },
   "source": [
    "**Null Hypothesis( H0 ):** There is no difference in the survival rate between passengers females and males. <br>\n",
    "**Alternative Hypothesis( HA )**: There is a difference in the survival rate between passengers females and males."
   ]
  },
  {
   "cell_type": "code",
   "execution_count": 43,
   "id": "exotic-story",
   "metadata": {
    "execution": {
     "iopub.execute_input": "2022-04-03T16:20:22.567431Z",
     "iopub.status.busy": "2022-04-03T16:20:22.566859Z",
     "iopub.status.idle": "2022-04-03T16:20:22.583397Z",
     "shell.execute_reply": "2022-04-03T16:20:22.583818Z",
     "shell.execute_reply.started": "2022-04-03T16:18:59.477111Z"
    },
    "papermill": {
     "duration": 0.079259,
     "end_time": "2022-04-03T16:20:22.583980",
     "exception": false,
     "start_time": "2022-04-03T16:20:22.504721",
     "status": "completed"
    },
    "tags": []
   },
   "outputs": [],
   "source": [
    "import random\n",
    "male = train[train['Sex'] == 1]\n",
    "female = train[train['Sex'] == 0]\n",
    "\n",
    "## empty list for storing mean sample\n",
    "m_mean_samples = []\n",
    "f_mean_samples = []\n",
    "\n",
    "for i in range(50):\n",
    "    m_mean_samples.append(np.mean(random.sample(list(male['Survived']),50,)))\n",
    "    f_mean_samples.append(np.mean(random.sample(list(female['Survived']),50,)))"
   ]
  },
  {
   "cell_type": "markdown",
   "id": "working-norfolk",
   "metadata": {
    "papermill": {
     "duration": 0.058769,
     "end_time": "2022-04-03T16:20:22.702046",
     "exception": false,
     "start_time": "2022-04-03T16:20:22.643277",
     "status": "completed"
    },
    "tags": []
   },
   "source": [
    "We can use two-sampled ttests or two-sampled z-tests for this case, but since we chose our sample size to be greater than 30, z-tests would be preferrable."
   ]
  },
  {
   "cell_type": "markdown",
   "id": "cubic-spanking",
   "metadata": {
    "papermill": {
     "duration": 0.058698,
     "end_time": "2022-04-03T16:20:22.819730",
     "exception": false,
     "start_time": "2022-04-03T16:20:22.761032",
     "status": "completed"
    },
    "tags": []
   },
   "source": [
    "We use repeated sampling from the same units. The test measures whether the average score differs significantly across samples. If we observe a large p-value, for example greater than 0.05 then we cannot reject the null hypothesis of identical survival rate. If the p-value is smaller than the threshold then we reject the null hypothesis of equal averages."
   ]
  },
  {
   "cell_type": "code",
   "execution_count": 44,
   "id": "vocal-dependence",
   "metadata": {
    "execution": {
     "iopub.execute_input": "2022-04-03T16:20:22.940911Z",
     "iopub.status.busy": "2022-04-03T16:20:22.940322Z",
     "iopub.status.idle": "2022-04-03T16:20:22.947441Z",
     "shell.execute_reply": "2022-04-03T16:20:22.948233Z",
     "shell.execute_reply.started": "2022-04-03T16:18:59.502525Z"
    },
    "papermill": {
     "duration": 0.068964,
     "end_time": "2022-04-03T16:20:22.948441",
     "exception": false,
     "start_time": "2022-04-03T16:20:22.879477",
     "status": "completed"
    },
    "tags": []
   },
   "outputs": [
    {
     "name": "stdout",
     "output_type": "stream",
     "text": [
      "8.413029775753978e-43\n",
      "Reject null hypothesis\n"
     ]
    }
   ],
   "source": [
    "ttest, pval = stats.ttest_rel(m_mean_samples, f_mean_samples)\n",
    "print(float(pval))\n",
    "if pval < 0.05:\n",
    "    print(\"Reject null hypothesis\")\n",
    "else:\n",
    "    print(\"Accept null hypothesis\")"
   ]
  },
  {
   "cell_type": "code",
   "execution_count": 45,
   "id": "geographic-bacon",
   "metadata": {
    "execution": {
     "iopub.execute_input": "2022-04-03T16:20:23.071196Z",
     "iopub.status.busy": "2022-04-03T16:20:23.070310Z",
     "iopub.status.idle": "2022-04-03T16:20:23.076393Z",
     "shell.execute_reply": "2022-04-03T16:20:23.076936Z",
     "shell.execute_reply.started": "2022-04-03T16:18:59.510540Z"
    },
    "papermill": {
     "duration": 0.068515,
     "end_time": "2022-04-03T16:20:23.077085",
     "exception": false,
     "start_time": "2022-04-03T16:20:23.008570",
     "status": "completed"
    },
    "tags": []
   },
   "outputs": [
    {
     "name": "stdout",
     "output_type": "stream",
     "text": [
      "Reject null hypothesis\n"
     ]
    }
   ],
   "source": [
    "ztest ,pval1 = stests.ztest(m_mean_samples,f_mean_samples, value=0,alternative='two-sided')\n",
    "if pval1 < 0.05:\n",
    "    print(\"Reject null hypothesis\")\n",
    "else:\n",
    "    print(\"Accept null hypothesis\")"
   ]
  },
  {
   "attachments": {
    "40a151b2-6de2-4d69-bbb4-b9f3d93773e2.png": {
     "image/png": "[encoded data removed]"
    }
   },
   "cell_type": "markdown",
   "id": "specific-groove",
   "metadata": {
    "papermill": {
     "duration": 0.058733,
     "end_time": "2022-04-03T16:20:23.194642",
     "exception": false,
     "start_time": "2022-04-03T16:20:23.135909",
     "status": "completed"
    },
    "tags": []
   },
   "source": [
    "![download.png](attachment:40a151b2-6de2-4d69-bbb4-b9f3d93773e2.png)"
   ]
  },
  {
   "cell_type": "markdown",
   "id": "different-mounting",
   "metadata": {
    "papermill": {
     "duration": 0.058767,
     "end_time": "2022-04-03T16:20:23.312148",
     "exception": false,
     "start_time": "2022-04-03T16:20:23.253381",
     "status": "completed"
    },
    "tags": []
   },
   "source": [
    "This graph illustrates the difference in survival rate among males and females:"
   ]
  },
  {
   "cell_type": "code",
   "execution_count": 46,
   "id": "rural-biography",
   "metadata": {
    "execution": {
     "iopub.execute_input": "2022-04-03T16:20:23.433216Z",
     "iopub.status.busy": "2022-04-03T16:20:23.432308Z",
     "iopub.status.idle": "2022-04-03T16:20:23.595094Z",
     "shell.execute_reply": "2022-04-03T16:20:23.595581Z",
     "shell.execute_reply.started": "2022-04-03T16:18:59.523048Z"
    },
    "papermill": {
     "duration": 0.224801,
     "end_time": "2022-04-03T16:20:23.595760",
     "exception": false,
     "start_time": "2022-04-03T16:20:23.370959",
     "status": "completed"
    },
    "tags": []
   },
   "outputs": [
    {
     "data": {
      "image/png": "[encoded data removed]",
      "text/plain": [
       "<Figure size 432x288 with 1 Axes>"
      ]
     },
     "metadata": {
      "needs_background": "light"
     },
     "output_type": "display_data"
    }
   ],
   "source": [
    "# Plot\n",
    "sns.barplot(x=train['Sex'], y=train['Survived']);"
   ]
  },
  {
   "cell_type": "markdown",
   "id": "difficult-edinburgh",
   "metadata": {
    "papermill": {
     "duration": 0.059353,
     "end_time": "2022-04-03T16:20:23.714464",
     "exception": false,
     "start_time": "2022-04-03T16:20:23.655111",
     "status": "completed"
    },
    "tags": []
   },
   "source": [
    "**Null Hypothesis( H0 )**: There is no difference in the survival rate among passenger of different Pclasses. <br>\n",
    "**Alternative Hypothesis( HA ):** There is a difference in the survival rate among passengers of different Pclasses."
   ]
  },
  {
   "cell_type": "markdown",
   "id": "cooperative-civilization",
   "metadata": {
    "papermill": {
     "duration": 0.06087,
     "end_time": "2022-04-03T16:20:23.834560",
     "exception": false,
     "start_time": "2022-04-03T16:20:23.773690",
     "status": "completed"
    },
    "tags": []
   },
   "source": [
    "We want to compare more than two groups at the same time, hence z-tests will not be suitable in this case. The analysis of variance or ANOVA is a statistical inference test that lets you compare multiple groups at the same time.\n",
    "<br>\n",
    "ANNOVA: Analysis of variance is a collection of statistical models and their associated estimation procedures used to analyze the differences among group means in a sample"
   ]
  },
  {
   "cell_type": "code",
   "execution_count": 47,
   "id": "limiting-organization",
   "metadata": {
    "execution": {
     "iopub.execute_input": "2022-04-03T16:20:23.959246Z",
     "iopub.status.busy": "2022-04-03T16:20:23.958325Z",
     "iopub.status.idle": "2022-04-03T16:20:23.987491Z",
     "shell.execute_reply": "2022-04-03T16:20:23.988135Z",
     "shell.execute_reply.started": "2022-04-03T16:18:59.696518Z"
    },
    "papermill": {
     "duration": 0.093419,
     "end_time": "2022-04-03T16:20:23.988353",
     "exception": false,
     "start_time": "2022-04-03T16:20:23.894934",
     "status": "completed"
    },
    "tags": []
   },
   "outputs": [
    {
     "name": "stdout",
     "output_type": "stream",
     "text": [
      "p-value for significance is:  7.622537651778441e-72\n",
      "Reject null hypothesis\n"
     ]
    }
   ],
   "source": [
    "grps = pd.unique(train.Pclass.values)\n",
    "p1 = train[(train['Pclass']==1)]\n",
    "p2 = train[(train['Pclass']==2)]\n",
    "p3 = train[(train['Pclass']==3)]\n",
    "\n",
    "p1_mean_samples=[]\n",
    "p2_mean_samples=[]\n",
    "p3_mean_samples=[]\n",
    "\n",
    "for i in range(50):\n",
    "    for j in range(1, 4):\n",
    "        j = str(j)\n",
    "        exec(\"p\" + j + \"_mean_samples.append(np.mean(random.sample(list(p\" + j + \"['Survived']),50,)))\")\n",
    "'''for i in range(50):\n",
    "    p1_mean_samples.append(np.mean(random.sample(list(p1['Survived']),50,)))\n",
    "    p2_mean_samples.append(np.mean(random.sample(list(p2['Survived']),50,)))\n",
    "    p3_mean_samples.append(np.mean(random.sample(list(p3['Survived']),50,)))'''\n",
    "                          \n",
    "F, p = stats.f_oneway(p1_mean_samples, p2_mean_samples, p3_mean_samples)\n",
    "print(\"p-value for significance is: \", p)\n",
    "if p < 0.05:\n",
    "    print(\"Reject null hypothesis\")\n",
    "else:\n",
    "    print(\"Accept null hypothesis\")"
   ]
  },
  {
   "cell_type": "code",
   "execution_count": 48,
   "id": "angry-barrel",
   "metadata": {
    "execution": {
     "iopub.execute_input": "2022-04-03T16:20:24.114821Z",
     "iopub.status.busy": "2022-04-03T16:20:24.114194Z",
     "iopub.status.idle": "2022-04-03T16:20:24.303600Z",
     "shell.execute_reply": "2022-04-03T16:20:24.303014Z",
     "shell.execute_reply.started": "2022-04-03T16:18:59.728540Z"
    },
    "papermill": {
     "duration": 0.253223,
     "end_time": "2022-04-03T16:20:24.303759",
     "exception": false,
     "start_time": "2022-04-03T16:20:24.050536",
     "status": "completed"
    },
    "tags": []
   },
   "outputs": [
    {
     "data": {
      "image/png": "[encoded data removed]",
      "text/plain": [
       "<Figure size 432x288 with 1 Axes>"
      ]
     },
     "metadata": {
      "needs_background": "light"
     },
     "output_type": "display_data"
    }
   ],
   "source": [
    "# Plot\n",
    "sns.barplot(x=train['Pclass'],y=train['Survived']);"
   ]
  },
  {
   "cell_type": "markdown",
   "id": "asian-terminal",
   "metadata": {
    "papermill": {
     "duration": 0.06141,
     "end_time": "2022-04-03T16:20:24.427253",
     "exception": false,
     "start_time": "2022-04-03T16:20:24.365843",
     "status": "completed"
    },
    "tags": []
   },
   "source": [
    "About 60% of the people travelling in the first class survived, while only around 25% of the people travelling in the third class survived. Accordingly, this plot suggests that the class in which people travel affects the chances of survival."
   ]
  },
  {
   "cell_type": "markdown",
   "id": "danish-massage",
   "metadata": {
    "papermill": {
     "duration": 0.06006,
     "end_time": "2022-04-03T16:20:24.548040",
     "exception": false,
     "start_time": "2022-04-03T16:20:24.487980",
     "status": "completed"
    },
    "tags": []
   },
   "source": [
    "# Scaling"
   ]
  },
  {
   "cell_type": "markdown",
   "id": "breathing-rebound",
   "metadata": {
    "papermill": {
     "duration": 0.060758,
     "end_time": "2022-04-03T16:20:24.669093",
     "exception": false,
     "start_time": "2022-04-03T16:20:24.608335",
     "status": "completed"
    },
    "tags": []
   },
   "source": [
    "It is a step of data Pre-Processing which is applied to independent variables to normalize the data within a particular range. It also helps in speeding up the calculations in an algorithm. Scaling is important in the algorithms such as support vector machines (SVM) and k-nearest neighbors (KNN) where distance between the data points is important.\n"
   ]
  },
  {
   "cell_type": "code",
   "execution_count": 49,
   "id": "entertaining-childhood",
   "metadata": {
    "execution": {
     "iopub.execute_input": "2022-04-03T16:20:24.794768Z",
     "iopub.status.busy": "2022-04-03T16:20:24.793878Z",
     "iopub.status.idle": "2022-04-03T16:20:24.799290Z",
     "shell.execute_reply": "2022-04-03T16:20:24.799833Z",
     "shell.execute_reply.started": "2022-04-03T16:18:59.923608Z"
    },
    "papermill": {
     "duration": 0.070114,
     "end_time": "2022-04-03T16:20:24.799983",
     "exception": false,
     "start_time": "2022-04-03T16:20:24.729869",
     "status": "completed"
    },
    "tags": []
   },
   "outputs": [
    {
     "data": {
      "text/plain": [
       "Index(['Survived', 'Pclass', 'Name', 'Sex', 'Age', 'SibSp', 'Parch', 'Ticket',\n",
       "       'Fare', 'Embarked', 'AgeCategory', 'FamilySize', 'Family_name',\n",
       "       'Title'],\n",
       "      dtype='object')"
      ]
     },
     "execution_count": 49,
     "metadata": {},
     "output_type": "execute_result"
    }
   ],
   "source": [
    "headers = train.columns\n",
    "headers"
   ]
  },
  {
   "cell_type": "code",
   "execution_count": 50,
   "id": "inside-singapore",
   "metadata": {
    "execution": {
     "iopub.execute_input": "2022-04-03T16:20:24.924108Z",
     "iopub.status.busy": "2022-04-03T16:20:24.923140Z",
     "iopub.status.idle": "2022-04-03T16:20:24.937905Z",
     "shell.execute_reply": "2022-04-03T16:20:24.938432Z",
     "shell.execute_reply.started": "2022-04-03T16:18:59.930710Z"
    },
    "papermill": {
     "duration": 0.078503,
     "end_time": "2022-04-03T16:20:24.938587",
     "exception": false,
     "start_time": "2022-04-03T16:20:24.860084",
     "status": "completed"
    },
    "tags": []
   },
   "outputs": [
    {
     "data": {
      "text/html": [
       "<div>\n",
       "<style scoped>\n",
       "    .dataframe tbody tr th:only-of-type {\n",
       "        vertical-align: middle;\n",
       "    }\n",
       "\n",
       "    .dataframe tbody tr th {\n",
       "        vertical-align: top;\n",
       "    }\n",
       "\n",
       "    .dataframe thead th {\n",
       "        text-align: right;\n",
       "    }\n",
       "</style>\n",
       "<table border=\"1\" class=\"dataframe\">\n",
       "  <thead>\n",
       "    <tr style=\"text-align: right;\">\n",
       "      <th></th>\n",
       "      <th>Survived</th>\n",
       "      <th>Pclass</th>\n",
       "      <th>Name</th>\n",
       "      <th>Sex</th>\n",
       "      <th>Age</th>\n",
       "      <th>SibSp</th>\n",
       "      <th>Parch</th>\n",
       "      <th>Ticket</th>\n",
       "      <th>Fare</th>\n",
       "      <th>Embarked</th>\n",
       "      <th>AgeCategory</th>\n",
       "      <th>FamilySize</th>\n",
       "      <th>Family_name</th>\n",
       "      <th>Title</th>\n",
       "    </tr>\n",
       "  </thead>\n",
       "  <tbody>\n",
       "    <tr>\n",
       "      <th>0</th>\n",
       "      <td>0</td>\n",
       "      <td>3</td>\n",
       "      <td>108</td>\n",
       "      <td>0</td>\n",
       "      <td>22.0</td>\n",
       "      <td>1</td>\n",
       "      <td>0</td>\n",
       "      <td>523</td>\n",
       "      <td>1.981001</td>\n",
       "      <td>0.0</td>\n",
       "      <td>1</td>\n",
       "      <td>2</td>\n",
       "      <td>73</td>\n",
       "      <td>0</td>\n",
       "    </tr>\n",
       "    <tr>\n",
       "      <th>1</th>\n",
       "      <td>1</td>\n",
       "      <td>1</td>\n",
       "      <td>190</td>\n",
       "      <td>1</td>\n",
       "      <td>38.0</td>\n",
       "      <td>1</td>\n",
       "      <td>0</td>\n",
       "      <td>596</td>\n",
       "      <td>4.266662</td>\n",
       "      <td>1.0</td>\n",
       "      <td>2</td>\n",
       "      <td>2</td>\n",
       "      <td>136</td>\n",
       "      <td>1</td>\n",
       "    </tr>\n",
       "    <tr>\n",
       "      <th>2</th>\n",
       "      <td>1</td>\n",
       "      <td>3</td>\n",
       "      <td>353</td>\n",
       "      <td>1</td>\n",
       "      <td>26.0</td>\n",
       "      <td>0</td>\n",
       "      <td>0</td>\n",
       "      <td>669</td>\n",
       "      <td>2.070022</td>\n",
       "      <td>0.0</td>\n",
       "      <td>1</td>\n",
       "      <td>1</td>\n",
       "      <td>251</td>\n",
       "      <td>2</td>\n",
       "    </tr>\n",
       "    <tr>\n",
       "      <th>3</th>\n",
       "      <td>1</td>\n",
       "      <td>1</td>\n",
       "      <td>272</td>\n",
       "      <td>1</td>\n",
       "      <td>35.0</td>\n",
       "      <td>1</td>\n",
       "      <td>0</td>\n",
       "      <td>49</td>\n",
       "      <td>3.972177</td>\n",
       "      <td>0.0</td>\n",
       "      <td>2</td>\n",
       "      <td>2</td>\n",
       "      <td>198</td>\n",
       "      <td>1</td>\n",
       "    </tr>\n",
       "    <tr>\n",
       "      <th>4</th>\n",
       "      <td>0</td>\n",
       "      <td>3</td>\n",
       "      <td>15</td>\n",
       "      <td>0</td>\n",
       "      <td>35.0</td>\n",
       "      <td>0</td>\n",
       "      <td>0</td>\n",
       "      <td>472</td>\n",
       "      <td>2.085672</td>\n",
       "      <td>0.0</td>\n",
       "      <td>2</td>\n",
       "      <td>1</td>\n",
       "      <td>11</td>\n",
       "      <td>0</td>\n",
       "    </tr>\n",
       "  </tbody>\n",
       "</table>\n",
       "</div>"
      ],
      "text/plain": [
       "   Survived  Pclass  Name  Sex   Age  SibSp  Parch  Ticket      Fare  \\\n",
       "0         0       3   108    0  22.0      1      0     523  1.981001   \n",
       "1         1       1   190    1  38.0      1      0     596  4.266662   \n",
       "2         1       3   353    1  26.0      0      0     669  2.070022   \n",
       "3         1       1   272    1  35.0      1      0      49  3.972177   \n",
       "4         0       3    15    0  35.0      0      0     472  2.085672   \n",
       "\n",
       "   Embarked  AgeCategory  FamilySize  Family_name  Title  \n",
       "0       0.0            1           2           73      0  \n",
       "1       1.0            2           2          136      1  \n",
       "2       0.0            1           1          251      2  \n",
       "3       0.0            2           2          198      1  \n",
       "4       0.0            2           1           11      0  "
      ]
     },
     "execution_count": 50,
     "metadata": {},
     "output_type": "execute_result"
    }
   ],
   "source": [
    "train.head()"
   ]
  },
  {
   "cell_type": "markdown",
   "id": "insured-communication",
   "metadata": {
    "papermill": {
     "duration": 0.059774,
     "end_time": "2022-04-03T16:20:25.060567",
     "exception": false,
     "start_time": "2022-04-03T16:20:25.000793",
     "status": "completed"
    },
    "tags": []
   },
   "source": [
    "# Standard Scaler"
   ]
  },
  {
   "cell_type": "code",
   "execution_count": 51,
   "id": "arctic-hydrogen",
   "metadata": {
    "execution": {
     "iopub.execute_input": "2022-04-03T16:20:25.188353Z",
     "iopub.status.busy": "2022-04-03T16:20:25.187388Z",
     "iopub.status.idle": "2022-04-03T16:20:25.192510Z",
     "shell.execute_reply": "2022-04-03T16:20:25.193052Z",
     "shell.execute_reply.started": "2022-04-03T16:18:59.953908Z"
    },
    "papermill": {
     "duration": 0.072281,
     "end_time": "2022-04-03T16:20:25.193201",
     "exception": false,
     "start_time": "2022-04-03T16:20:25.120920",
     "status": "completed"
    },
    "tags": []
   },
   "outputs": [],
   "source": [
    "# Feature Scaling\n",
    "## We will be using standardscaler to transform\n",
    "from sklearn.preprocessing import StandardScaler\n",
    "std_scale = StandardScaler()\n",
    "\n",
    "## transforming \"train_x\"\n",
    "train = std_scale.fit_transform(train)"
   ]
  },
  {
   "attachments": {
    "14ec3b3b-e840-413c-adec-ba84d41346be.png": {
     "image/png": "[encoded data removed]"
    }
   },
   "cell_type": "markdown",
   "id": "colonial-advocacy",
   "metadata": {
    "papermill": {
     "duration": 0.060044,
     "end_time": "2022-04-03T16:20:25.313909",
     "exception": false,
     "start_time": "2022-04-03T16:20:25.253865",
     "status": "completed"
    },
    "tags": []
   },
   "source": [
    "![standardization-vs-normalization.png](attachment:14ec3b3b-e840-413c-adec-ba84d41346be.png)"
   ]
  },
  {
   "cell_type": "code",
   "execution_count": 52,
   "id": "successful-breed",
   "metadata": {
    "execution": {
     "iopub.execute_input": "2022-04-03T16:20:25.445538Z",
     "iopub.status.busy": "2022-04-03T16:20:25.444976Z",
     "iopub.status.idle": "2022-04-03T16:20:25.454671Z",
     "shell.execute_reply": "2022-04-03T16:20:25.455173Z",
     "shell.execute_reply.started": "2022-04-03T16:18:59.966649Z"
    },
    "papermill": {
     "duration": 0.08111,
     "end_time": "2022-04-03T16:20:25.455327",
     "exception": false,
     "start_time": "2022-04-03T16:20:25.374217",
     "status": "completed"
    },
    "tags": []
   },
   "outputs": [
    {
     "data": {
      "text/html": [
       "<div>\n",
       "<style scoped>\n",
       "    .dataframe tbody tr th:only-of-type {\n",
       "        vertical-align: middle;\n",
       "    }\n",
       "\n",
       "    .dataframe tbody tr th {\n",
       "        vertical-align: top;\n",
       "    }\n",
       "\n",
       "    .dataframe thead th {\n",
       "        text-align: right;\n",
       "    }\n",
       "</style>\n",
       "<table border=\"1\" class=\"dataframe\">\n",
       "  <thead>\n",
       "    <tr style=\"text-align: right;\">\n",
       "      <th></th>\n",
       "      <th>Survived</th>\n",
       "      <th>Pclass</th>\n",
       "      <th>Name</th>\n",
       "      <th>Sex</th>\n",
       "      <th>Age</th>\n",
       "      <th>SibSp</th>\n",
       "      <th>Parch</th>\n",
       "      <th>Ticket</th>\n",
       "      <th>Fare</th>\n",
       "      <th>Embarked</th>\n",
       "      <th>AgeCategory</th>\n",
       "      <th>FamilySize</th>\n",
       "      <th>Family_name</th>\n",
       "      <th>Title</th>\n",
       "    </tr>\n",
       "  </thead>\n",
       "  <tbody>\n",
       "    <tr>\n",
       "      <th>0</th>\n",
       "      <td>-0.786961</td>\n",
       "      <td>0.825209</td>\n",
       "      <td>-1.308847</td>\n",
       "      <td>-0.735342</td>\n",
       "      <td>-0.590495</td>\n",
       "      <td>0.431350</td>\n",
       "      <td>-0.474326</td>\n",
       "      <td>0.916911</td>\n",
       "      <td>-0.908614</td>\n",
       "      <td>-0.569684</td>\n",
       "      <td>-0.822292</td>\n",
       "      <td>0.057853</td>\n",
       "      <td>-1.306659</td>\n",
       "      <td>-0.730374</td>\n",
       "    </tr>\n",
       "    <tr>\n",
       "      <th>1</th>\n",
       "      <td>1.270711</td>\n",
       "      <td>-1.572211</td>\n",
       "      <td>-0.990076</td>\n",
       "      <td>1.359911</td>\n",
       "      <td>0.643971</td>\n",
       "      <td>0.431350</td>\n",
       "      <td>-0.474326</td>\n",
       "      <td>1.281117</td>\n",
       "      <td>1.374828</td>\n",
       "      <td>1.003139</td>\n",
       "      <td>0.216085</td>\n",
       "      <td>0.057853</td>\n",
       "      <td>-0.981016</td>\n",
       "      <td>0.325402</td>\n",
       "    </tr>\n",
       "    <tr>\n",
       "      <th>2</th>\n",
       "      <td>1.270711</td>\n",
       "      <td>0.825209</td>\n",
       "      <td>-0.356421</td>\n",
       "      <td>1.359911</td>\n",
       "      <td>-0.281878</td>\n",
       "      <td>-0.475199</td>\n",
       "      <td>-0.474326</td>\n",
       "      <td>1.645324</td>\n",
       "      <td>-0.819680</td>\n",
       "      <td>-0.569684</td>\n",
       "      <td>-0.822292</td>\n",
       "      <td>-0.561804</td>\n",
       "      <td>-0.386589</td>\n",
       "      <td>1.381179</td>\n",
       "    </tr>\n",
       "    <tr>\n",
       "      <th>3</th>\n",
       "      <td>1.270711</td>\n",
       "      <td>-1.572211</td>\n",
       "      <td>-0.671305</td>\n",
       "      <td>1.359911</td>\n",
       "      <td>0.412509</td>\n",
       "      <td>0.431350</td>\n",
       "      <td>-0.474326</td>\n",
       "      <td>-1.447936</td>\n",
       "      <td>1.080629</td>\n",
       "      <td>-0.569684</td>\n",
       "      <td>0.216085</td>\n",
       "      <td>0.057853</td>\n",
       "      <td>-0.660542</td>\n",
       "      <td>0.325402</td>\n",
       "    </tr>\n",
       "    <tr>\n",
       "      <th>4</th>\n",
       "      <td>-0.786961</td>\n",
       "      <td>0.825209</td>\n",
       "      <td>-1.670380</td>\n",
       "      <td>-0.735342</td>\n",
       "      <td>0.412509</td>\n",
       "      <td>-0.475199</td>\n",
       "      <td>-0.474326</td>\n",
       "      <td>0.662465</td>\n",
       "      <td>-0.804045</td>\n",
       "      <td>-0.569684</td>\n",
       "      <td>0.216085</td>\n",
       "      <td>-0.561804</td>\n",
       "      <td>-1.627133</td>\n",
       "      <td>-0.730374</td>\n",
       "    </tr>\n",
       "  </tbody>\n",
       "</table>\n",
       "</div>"
      ],
      "text/plain": [
       "   Survived    Pclass      Name       Sex       Age     SibSp     Parch  \\\n",
       "0 -0.786961  0.825209 -1.308847 -0.735342 -0.590495  0.431350 -0.474326   \n",
       "1  1.270711 -1.572211 -0.990076  1.359911  0.643971  0.431350 -0.474326   \n",
       "2  1.270711  0.825209 -0.356421  1.359911 -0.281878 -0.475199 -0.474326   \n",
       "3  1.270711 -1.572211 -0.671305  1.359911  0.412509  0.431350 -0.474326   \n",
       "4 -0.786961  0.825209 -1.670380 -0.735342  0.412509 -0.475199 -0.474326   \n",
       "\n",
       "     Ticket      Fare  Embarked  AgeCategory  FamilySize  Family_name  \\\n",
       "0  0.916911 -0.908614 -0.569684    -0.822292    0.057853    -1.306659   \n",
       "1  1.281117  1.374828  1.003139     0.216085    0.057853    -0.981016   \n",
       "2  1.645324 -0.819680 -0.569684    -0.822292   -0.561804    -0.386589   \n",
       "3 -1.447936  1.080629 -0.569684     0.216085    0.057853    -0.660542   \n",
       "4  0.662465 -0.804045 -0.569684     0.216085   -0.561804    -1.627133   \n",
       "\n",
       "      Title  \n",
       "0 -0.730374  \n",
       "1  0.325402  \n",
       "2  1.381179  \n",
       "3  0.325402  \n",
       "4 -0.730374  "
      ]
     },
     "execution_count": 52,
     "metadata": {},
     "output_type": "execute_result"
    }
   ],
   "source": [
    "train = pd.DataFrame(train, columns=headers)\n",
    "train.head()"
   ]
  }
 ],
 "metadata": {
  "kernelspec": {
   "display_name": "Python 3",
   "language": "python",
   "name": "python3"
  },
  "language_info": {
   "codemirror_mode": {
    "name": "ipython",
    "version": 3
   },
   "file_extension": ".py",
   "mimetype": "text/x-python",
   "name": "python",
   "nbconvert_exporter": "python",
   "pygments_lexer": "ipython3",
   "version": "3.7.10"
  },
  "papermill": {
   "default_parameters": {},
   "duration": 25.807831,
   "end_time": "2022-04-03T16:20:26.961657",
   "environment_variables": {},
   "exception": null,
   "input_path": "__notebook__.ipynb",
   "output_path": "__notebook__.ipynb",
   "parameters": {},
   "start_time": "2022-04-03T16:20:01.153826",
   "version": "2.3.3"
  }
 },
 "nbformat": 4,
 "nbformat_minor": 5
}
